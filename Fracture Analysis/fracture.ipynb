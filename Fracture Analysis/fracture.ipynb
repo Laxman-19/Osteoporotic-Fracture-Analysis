{
 "cells": [
  {
   "cell_type": "code",
   "execution_count": 3,
   "id": "8337757e",
   "metadata": {},
   "outputs": [],
   "source": [
    "import numpy as np\n",
    "import pandas as pd\n",
    "import matplotlib.pyplot as plt\n",
    "import os\n",
    "import seaborn as sns\n",
    "from datetime import datetime\n",
    "from sklearn.tree import DecisionTreeClassifier\n",
    "\n",
    "pd.pandas.set_option('display.max_columns' ,None)"
   ]
  },
  {
   "cell_type": "code",
   "execution_count": 207,
   "id": "dba5c117",
   "metadata": {},
   "outputs": [],
   "source": [
    "os.chdir(r'C:\\Users\\prati\\OneDrive\\Desktop\\Siddhesh\\fracture analysis')"
   ]
  },
  {
   "cell_type": "code",
   "execution_count": 208,
   "id": "d26335b8",
   "metadata": {},
   "outputs": [],
   "source": [
    "data = pd.read_excel('Dataset.xlsx')"
   ]
  },
  {
   "cell_type": "code",
   "execution_count": 209,
   "id": "78e423e0",
   "metadata": {
    "scrolled": true
   },
   "outputs": [
    {
     "data": {
      "text/html": [
       "<div>\n",
       "<style scoped>\n",
       "    .dataframe tbody tr th:only-of-type {\n",
       "        vertical-align: middle;\n",
       "    }\n",
       "\n",
       "    .dataframe tbody tr th {\n",
       "        vertical-align: top;\n",
       "    }\n",
       "\n",
       "    .dataframe thead th {\n",
       "        text-align: right;\n",
       "    }\n",
       "</style>\n",
       "<table border=\"1\" class=\"dataframe\">\n",
       "  <thead>\n",
       "    <tr style=\"text-align: right;\">\n",
       "      <th></th>\n",
       "      <th>SI.NO</th>\n",
       "      <th>DATE</th>\n",
       "      <th>NAME</th>\n",
       "      <th>AGE</th>\n",
       "      <th>SEX</th>\n",
       "      <th>ASSO MEDICAL PROB</th>\n",
       "      <th>H/O INJURY/SURGERY</th>\n",
       "      <th>DRUG HISTORY</th>\n",
       "      <th>FREQUENCY</th>\n",
       "      <th>avg</th>\n",
       "    </tr>\n",
       "  </thead>\n",
       "  <tbody>\n",
       "    <tr>\n",
       "      <th>0</th>\n",
       "      <td>1</td>\n",
       "      <td>2017-02-01 00:00:00</td>\n",
       "      <td>PATIENT_1</td>\n",
       "      <td>29</td>\n",
       "      <td>Male</td>\n",
       "      <td>no</td>\n",
       "      <td>no</td>\n",
       "      <td>no</td>\n",
       "      <td>115, 115, 113</td>\n",
       "      <td>114.30</td>\n",
       "    </tr>\n",
       "    <tr>\n",
       "      <th>1</th>\n",
       "      <td>2</td>\n",
       "      <td>2017-03-01 00:00:00</td>\n",
       "      <td>PATIENT_2</td>\n",
       "      <td>36</td>\n",
       "      <td>Female</td>\n",
       "      <td>no</td>\n",
       "      <td>no</td>\n",
       "      <td>no</td>\n",
       "      <td>95,94,96</td>\n",
       "      <td>94.00</td>\n",
       "    </tr>\n",
       "    <tr>\n",
       "      <th>2</th>\n",
       "      <td>3</td>\n",
       "      <td>2017-03-01 00:00:00</td>\n",
       "      <td>PATIENT_3</td>\n",
       "      <td>37</td>\n",
       "      <td>Male</td>\n",
       "      <td>no</td>\n",
       "      <td>no</td>\n",
       "      <td>no</td>\n",
       "      <td>80,82,81</td>\n",
       "      <td>81.00</td>\n",
       "    </tr>\n",
       "    <tr>\n",
       "      <th>3</th>\n",
       "      <td>4</td>\n",
       "      <td>2017-03-01 00:00:00</td>\n",
       "      <td>PATIENT_4</td>\n",
       "      <td>37</td>\n",
       "      <td>Female</td>\n",
       "      <td>no</td>\n",
       "      <td>no</td>\n",
       "      <td>no</td>\n",
       "      <td>100, 101, 100</td>\n",
       "      <td>100.33</td>\n",
       "    </tr>\n",
       "    <tr>\n",
       "      <th>4</th>\n",
       "      <td>5</td>\n",
       "      <td>2017-03-01 00:00:00</td>\n",
       "      <td>PATIENT_5</td>\n",
       "      <td>38</td>\n",
       "      <td>female</td>\n",
       "      <td>no</td>\n",
       "      <td>no</td>\n",
       "      <td>no</td>\n",
       "      <td>99100100.4</td>\n",
       "      <td>99.80</td>\n",
       "    </tr>\n",
       "    <tr>\n",
       "      <th>...</th>\n",
       "      <td>...</td>\n",
       "      <td>...</td>\n",
       "      <td>...</td>\n",
       "      <td>...</td>\n",
       "      <td>...</td>\n",
       "      <td>...</td>\n",
       "      <td>...</td>\n",
       "      <td>...</td>\n",
       "      <td>...</td>\n",
       "      <td>...</td>\n",
       "    </tr>\n",
       "    <tr>\n",
       "      <th>995</th>\n",
       "      <td>996</td>\n",
       "      <td>12/29/2017</td>\n",
       "      <td>PATIENT_996</td>\n",
       "      <td>72</td>\n",
       "      <td>Male</td>\n",
       "      <td>no</td>\n",
       "      <td>no</td>\n",
       "      <td>no</td>\n",
       "      <td>68, 69, 68</td>\n",
       "      <td>68.30</td>\n",
       "    </tr>\n",
       "    <tr>\n",
       "      <th>996</th>\n",
       "      <td>997</td>\n",
       "      <td>12/29/2017</td>\n",
       "      <td>PATIENT_997</td>\n",
       "      <td>72</td>\n",
       "      <td>Male</td>\n",
       "      <td>Yes(Diabetes,Blockage in Heart)</td>\n",
       "      <td>shouler surgery</td>\n",
       "      <td>yes</td>\n",
       "      <td>69,70,71</td>\n",
       "      <td>70.00</td>\n",
       "    </tr>\n",
       "    <tr>\n",
       "      <th>997</th>\n",
       "      <td>998</td>\n",
       "      <td>12/31/2017</td>\n",
       "      <td>PATIENT_998</td>\n",
       "      <td>74</td>\n",
       "      <td>Female</td>\n",
       "      <td>yes(diabetes,bp)</td>\n",
       "      <td>knee surgery</td>\n",
       "      <td>yes</td>\n",
       "      <td>63,62,62.6</td>\n",
       "      <td>62.53</td>\n",
       "    </tr>\n",
       "    <tr>\n",
       "      <th>998</th>\n",
       "      <td>999</td>\n",
       "      <td>12/31/2017</td>\n",
       "      <td>PATIENT_999</td>\n",
       "      <td>76</td>\n",
       "      <td>Male</td>\n",
       "      <td>yes(diabetes,kidney stone)</td>\n",
       "      <td>no</td>\n",
       "      <td>no</td>\n",
       "      <td>62,61,62.5</td>\n",
       "      <td>61.83</td>\n",
       "    </tr>\n",
       "    <tr>\n",
       "      <th>999</th>\n",
       "      <td>1000</td>\n",
       "      <td>12/31/2017</td>\n",
       "      <td>PATIENT_1000</td>\n",
       "      <td>85</td>\n",
       "      <td>Male</td>\n",
       "      <td>yes (diabetes,heart blockage)</td>\n",
       "      <td>yes(open heart surgery)</td>\n",
       "      <td>yes</td>\n",
       "      <td>62,63,64</td>\n",
       "      <td>63.00</td>\n",
       "    </tr>\n",
       "  </tbody>\n",
       "</table>\n",
       "<p>1000 rows × 10 columns</p>\n",
       "</div>"
      ],
      "text/plain": [
       "     SI.NO                 DATE          NAME  AGE     SEX  \\\n",
       "0        1  2017-02-01 00:00:00     PATIENT_1   29    Male   \n",
       "1        2  2017-03-01 00:00:00     PATIENT_2   36  Female   \n",
       "2        3  2017-03-01 00:00:00     PATIENT_3   37    Male   \n",
       "3        4  2017-03-01 00:00:00     PATIENT_4   37  Female   \n",
       "4        5  2017-03-01 00:00:00     PATIENT_5   38  female   \n",
       "..     ...                  ...           ...  ...     ...   \n",
       "995    996           12/29/2017   PATIENT_996   72    Male   \n",
       "996    997           12/29/2017   PATIENT_997   72    Male   \n",
       "997    998           12/31/2017   PATIENT_998   74  Female   \n",
       "998    999           12/31/2017   PATIENT_999   76    Male   \n",
       "999   1000           12/31/2017  PATIENT_1000   85    Male   \n",
       "\n",
       "                   ASSO MEDICAL PROB       H/O INJURY/SURGERY DRUG HISTORY  \\\n",
       "0                                 no                       no           no   \n",
       "1                                 no                       no           no   \n",
       "2                                 no                       no           no   \n",
       "3                                 no                       no           no   \n",
       "4                                 no                       no           no   \n",
       "..                               ...                      ...          ...   \n",
       "995                               no                       no           no   \n",
       "996  Yes(Diabetes,Blockage in Heart)          shouler surgery          yes   \n",
       "997                 yes(diabetes,bp)             knee surgery          yes   \n",
       "998       yes(diabetes,kidney stone)                       no           no   \n",
       "999    yes (diabetes,heart blockage)  yes(open heart surgery)          yes   \n",
       "\n",
       "         FREQUENCY     avg  \n",
       "0    115, 115, 113  114.30  \n",
       "1         95,94,96   94.00  \n",
       "2         80,82,81   81.00  \n",
       "3    100, 101, 100  100.33  \n",
       "4       99100100.4   99.80  \n",
       "..             ...     ...  \n",
       "995     68, 69, 68   68.30  \n",
       "996       69,70,71   70.00  \n",
       "997     63,62,62.6   62.53  \n",
       "998     62,61,62.5   61.83  \n",
       "999       62,63,64   63.00  \n",
       "\n",
       "[1000 rows x 10 columns]"
      ]
     },
     "execution_count": 209,
     "metadata": {},
     "output_type": "execute_result"
    }
   ],
   "source": [
    "data"
   ]
  },
  {
   "cell_type": "code",
   "execution_count": 210,
   "id": "303a9b3d",
   "metadata": {
    "scrolled": false
   },
   "outputs": [
    {
     "data": {
      "text/plain": [
       "SI.NO                 0\n",
       "DATE                  0\n",
       "NAME                  0\n",
       "AGE                   0\n",
       "SEX                   0\n",
       "ASSO MEDICAL PROB     0\n",
       "H/O INJURY/SURGERY    0\n",
       "DRUG HISTORY          0\n",
       "FREQUENCY             0\n",
       "avg                   0\n",
       "dtype: int64"
      ]
     },
     "execution_count": 210,
     "metadata": {},
     "output_type": "execute_result"
    }
   ],
   "source": [
    "data.isnull().sum()"
   ]
  },
  {
   "cell_type": "code",
   "execution_count": 211,
   "id": "03d702b8",
   "metadata": {},
   "outputs": [
    {
     "data": {
      "text/plain": [
       "array([114.3  ,  94.   ,  81.   , 100.33 ,  99.8  ,  99.83 ,  98.3  ,\n",
       "        88.33 ,  91.   ,  89.77 ,  84.   ,  85.77 ,  91.67 ,  80.   ,\n",
       "        84.66 ,  88.66 ,  80.93 ,  78.16 ,  78.   ,  79.8  ,  77.   ,\n",
       "        77.3  ,  72.88 ,  72.   ,  81.16 ,  72.7  ,  70.66 ,  69.5  ,\n",
       "        66.   ,  75.7  ,  64.166,  71.   ,  68.66 ,  69.   ,  67.66 ,\n",
       "        61.33 ,  62.166,  70.16 ,  75.833,  65.8  ,  64.9  ,  68.3  ,\n",
       "        70.   ,  62.53 ,  61.83 ,  63.   ])"
      ]
     },
     "execution_count": 211,
     "metadata": {},
     "output_type": "execute_result"
    }
   ],
   "source": [
    "data['avg'].unique()"
   ]
  },
  {
   "cell_type": "code",
   "execution_count": 212,
   "id": "e0925fb3",
   "metadata": {
    "scrolled": true
   },
   "outputs": [
    {
     "data": {
      "text/plain": [
       "70.660     40\n",
       "99.800     40\n",
       "88.330     40\n",
       "69.000     40\n",
       "114.300    20\n",
       "61.330     20\n",
       "69.500     20\n",
       "66.000     20\n",
       "75.700     20\n",
       "64.166     20\n",
       "71.000     20\n",
       "68.660     20\n",
       "67.660     20\n",
       "62.166     20\n",
       "81.160     20\n",
       "70.160     20\n",
       "75.833     20\n",
       "65.800     20\n",
       "64.900     20\n",
       "68.300     20\n",
       "70.000     20\n",
       "62.530     20\n",
       "61.830     20\n",
       "72.700     20\n",
       "72.000     20\n",
       "94.000     20\n",
       "91.670     20\n",
       "81.000     20\n",
       "100.330    20\n",
       "99.830     20\n",
       "98.300     20\n",
       "91.000     20\n",
       "89.770     20\n",
       "84.000     20\n",
       "85.770     20\n",
       "80.000     20\n",
       "72.880     20\n",
       "84.660     20\n",
       "88.660     20\n",
       "80.930     20\n",
       "78.160     20\n",
       "78.000     20\n",
       "79.800     20\n",
       "77.000     20\n",
       "77.300     20\n",
       "63.000     20\n",
       "Name: avg, dtype: int64"
      ]
     },
     "execution_count": 212,
     "metadata": {},
     "output_type": "execute_result"
    }
   ],
   "source": [
    "data['avg'].value_counts()"
   ]
  },
  {
   "cell_type": "code",
   "execution_count": 213,
   "id": "f0bf1bbb",
   "metadata": {},
   "outputs": [],
   "source": [
    "features_with_na = [feature for feature in data.columns if data[feature].isnull().sum()>1]"
   ]
  },
  {
   "cell_type": "code",
   "execution_count": 214,
   "id": "234ef653",
   "metadata": {},
   "outputs": [
    {
     "data": {
      "text/plain": [
       "Index(['SI.NO', 'DATE', 'NAME', 'AGE', 'SEX', 'ASSO MEDICAL PROB',\n",
       "       'H/O INJURY/SURGERY', 'DRUG HISTORY', 'FREQUENCY', 'avg'],\n",
       "      dtype='object')"
      ]
     },
     "execution_count": 214,
     "metadata": {},
     "output_type": "execute_result"
    }
   ],
   "source": [
    "data.columns"
   ]
  },
  {
   "cell_type": "code",
   "execution_count": 215,
   "id": "dea0ab91",
   "metadata": {},
   "outputs": [
    {
     "data": {
      "text/html": [
       "<div>\n",
       "<style scoped>\n",
       "    .dataframe tbody tr th:only-of-type {\n",
       "        vertical-align: middle;\n",
       "    }\n",
       "\n",
       "    .dataframe tbody tr th {\n",
       "        vertical-align: top;\n",
       "    }\n",
       "\n",
       "    .dataframe thead th {\n",
       "        text-align: right;\n",
       "    }\n",
       "</style>\n",
       "<table border=\"1\" class=\"dataframe\">\n",
       "  <thead>\n",
       "    <tr style=\"text-align: right;\">\n",
       "      <th></th>\n",
       "      <th>SI.NO</th>\n",
       "      <th>AGE</th>\n",
       "      <th>avg</th>\n",
       "    </tr>\n",
       "  </thead>\n",
       "  <tbody>\n",
       "    <tr>\n",
       "      <th>count</th>\n",
       "      <td>1000.000000</td>\n",
       "      <td>1000.000000</td>\n",
       "      <td>1000.000000</td>\n",
       "    </tr>\n",
       "    <tr>\n",
       "      <th>mean</th>\n",
       "      <td>500.500000</td>\n",
       "      <td>56.520000</td>\n",
       "      <td>78.346700</td>\n",
       "    </tr>\n",
       "    <tr>\n",
       "      <th>std</th>\n",
       "      <td>288.819436</td>\n",
       "      <td>12.390445</td>\n",
       "      <td>12.431321</td>\n",
       "    </tr>\n",
       "    <tr>\n",
       "      <th>min</th>\n",
       "      <td>1.000000</td>\n",
       "      <td>29.000000</td>\n",
       "      <td>61.330000</td>\n",
       "    </tr>\n",
       "    <tr>\n",
       "      <th>25%</th>\n",
       "      <td>250.750000</td>\n",
       "      <td>45.000000</td>\n",
       "      <td>69.000000</td>\n",
       "    </tr>\n",
       "    <tr>\n",
       "      <th>50%</th>\n",
       "      <td>500.500000</td>\n",
       "      <td>56.500000</td>\n",
       "      <td>76.416500</td>\n",
       "    </tr>\n",
       "    <tr>\n",
       "      <th>75%</th>\n",
       "      <td>750.250000</td>\n",
       "      <td>67.000000</td>\n",
       "      <td>88.330000</td>\n",
       "    </tr>\n",
       "    <tr>\n",
       "      <th>max</th>\n",
       "      <td>1000.000000</td>\n",
       "      <td>85.000000</td>\n",
       "      <td>114.300000</td>\n",
       "    </tr>\n",
       "  </tbody>\n",
       "</table>\n",
       "</div>"
      ],
      "text/plain": [
       "             SI.NO          AGE          avg\n",
       "count  1000.000000  1000.000000  1000.000000\n",
       "mean    500.500000    56.520000    78.346700\n",
       "std     288.819436    12.390445    12.431321\n",
       "min       1.000000    29.000000    61.330000\n",
       "25%     250.750000    45.000000    69.000000\n",
       "50%     500.500000    56.500000    76.416500\n",
       "75%     750.250000    67.000000    88.330000\n",
       "max    1000.000000    85.000000   114.300000"
      ]
     },
     "execution_count": 215,
     "metadata": {},
     "output_type": "execute_result"
    }
   ],
   "source": [
    "data.describe()"
   ]
  },
  {
   "cell_type": "code",
   "execution_count": 216,
   "id": "b4ce710f",
   "metadata": {
    "scrolled": true
   },
   "outputs": [
    {
     "name": "stdout",
     "output_type": "stream",
     "text": [
      "<class 'pandas.core.frame.DataFrame'>\n",
      "RangeIndex: 1000 entries, 0 to 999\n",
      "Data columns (total 10 columns):\n",
      " #   Column              Non-Null Count  Dtype  \n",
      "---  ------              --------------  -----  \n",
      " 0   SI.NO               1000 non-null   int64  \n",
      " 1   DATE                1000 non-null   object \n",
      " 2   NAME                1000 non-null   object \n",
      " 3   AGE                 1000 non-null   int64  \n",
      " 4   SEX                 1000 non-null   object \n",
      " 5   ASSO MEDICAL PROB   1000 non-null   object \n",
      " 6   H/O INJURY/SURGERY  1000 non-null   object \n",
      " 7   DRUG HISTORY        1000 non-null   object \n",
      " 8   FREQUENCY           1000 non-null   object \n",
      " 9   avg                 1000 non-null   float64\n",
      "dtypes: float64(1), int64(2), object(7)\n",
      "memory usage: 78.2+ KB\n"
     ]
    }
   ],
   "source": [
    "data.info()"
   ]
  },
  {
   "cell_type": "code",
   "execution_count": 217,
   "id": "14de191d",
   "metadata": {},
   "outputs": [
    {
     "data": {
      "text/plain": [
       "(1000, 10)"
      ]
     },
     "execution_count": 217,
     "metadata": {},
     "output_type": "execute_result"
    }
   ],
   "source": [
    "data.shape\n"
   ]
  },
  {
   "cell_type": "code",
   "execution_count": 218,
   "id": "e0c9fea4",
   "metadata": {},
   "outputs": [
    {
     "data": {
      "text/plain": [
       "SI.NO                 False\n",
       "DATE                  False\n",
       "NAME                  False\n",
       "AGE                   False\n",
       "SEX                   False\n",
       "ASSO MEDICAL PROB     False\n",
       "H/O INJURY/SURGERY    False\n",
       "DRUG HISTORY          False\n",
       "FREQUENCY             False\n",
       "avg                   False\n",
       "dtype: bool"
      ]
     },
     "execution_count": 218,
     "metadata": {},
     "output_type": "execute_result"
    }
   ],
   "source": [
    "data.isnull().any(axis=0)"
   ]
  },
  {
   "cell_type": "code",
   "execution_count": 219,
   "id": "b6648fb7",
   "metadata": {
    "scrolled": true
   },
   "outputs": [
    {
     "name": "stdout",
     "output_type": "stream",
     "text": [
      "AGE   [29 36 37 38 39 41 42 44 45 48 49 52 53 55 56 57 60 61 62 63 64 66 67 68\n",
      " 69 70 72 74 76 85]\n",
      "ASSO MEDICAL PROB   ['no' 'No' 'yes(diabetes)' 'yes (diabetes)' 'yes(bp)' 'kidney stone'\n",
      " 'yes(increase in heart rate)' 'Yes(Diabetes,bp)' 'yes(bp dabetes)'\n",
      " 'yes(diabetes,bp)' 'Yes(Diabetes,Blockage in Heart)'\n",
      " 'yes(diabetes,kidney stone)' 'yes (diabetes,heart blockage)']\n",
      "DATE   [datetime.datetime(2017, 2, 1, 0, 0) datetime.datetime(2017, 3, 1, 0, 0)\n",
      " datetime.datetime(2017, 4, 1, 0, 0) datetime.datetime(2017, 5, 1, 0, 0)\n",
      " datetime.datetime(2017, 6, 1, 0, 0) datetime.datetime(2017, 7, 1, 0, 0)\n",
      " datetime.datetime(2017, 8, 1, 0, 0) datetime.datetime(2017, 9, 1, 0, 0)\n",
      " datetime.datetime(2017, 10, 1, 0, 0) datetime.datetime(2017, 11, 1, 0, 0)\n",
      " datetime.datetime(2017, 12, 1, 0, 0) '1/13/2017' '1/14/2017' '1/15/2017'\n",
      " '1/16/2017' '1/17/2017' '1/18/2017' '1/19/2017' '1/20/2017' '1/21/2017'\n",
      " '1/22/2017' '1/23/2017' '1/24/2017' '1/25/2017' '1/27/2017' '1/28/2017'\n",
      " '1/29/2017' '1/30/2017' '1/31/2017' datetime.datetime(2017, 1, 2, 0, 0)\n",
      " datetime.datetime(2017, 2, 2, 0, 0) datetime.datetime(2017, 3, 2, 0, 0)\n",
      " datetime.datetime(2017, 4, 2, 0, 0) datetime.datetime(2017, 5, 2, 0, 0)\n",
      " datetime.datetime(2017, 6, 2, 0, 0) datetime.datetime(2017, 7, 2, 0, 0)\n",
      " datetime.datetime(2017, 8, 2, 0, 0) datetime.datetime(2017, 9, 2, 0, 0)\n",
      " datetime.datetime(2017, 10, 2, 0, 0) datetime.datetime(2017, 11, 2, 0, 0)\n",
      " datetime.datetime(2017, 12, 2, 0, 0) '2/13/2017' '2/14/2017' '2/15/2017'\n",
      " '2/16/2017' '2/17/2017' '2/18/2017' '2/19/2017' '2/20/2017' '2/22/2017'\n",
      " '2/23/2017' '2/24/2017' '2/25/2017' '2/26/2017' '2/27/2017' '2/28/2017'\n",
      " datetime.datetime(2017, 1, 3, 0, 0) datetime.datetime(2017, 2, 3, 0, 0)\n",
      " datetime.datetime(2017, 4, 3, 0, 0) datetime.datetime(2017, 5, 3, 0, 0)\n",
      " datetime.datetime(2017, 6, 3, 0, 0) datetime.datetime(2017, 7, 3, 0, 0)\n",
      " datetime.datetime(2017, 9, 3, 0, 0) datetime.datetime(2017, 10, 3, 0, 0)\n",
      " datetime.datetime(2017, 11, 3, 0, 0) datetime.datetime(2017, 12, 3, 0, 0)\n",
      " '3/13/2017' '3/14/2017' '3/16/2017' '3/17/2017' '3/18/2017' '3/19/2017'\n",
      " '3/20/2017' '3/21/2017' '3/22/2017' '3/23/2017' '3/24/2017' '3/25/2017'\n",
      " '3/26/2017' '3/27/2017' '3/28/2017' '3/29/2017' '3/30/2017' '3/31/2017'\n",
      " datetime.datetime(2017, 1, 4, 0, 0) datetime.datetime(2017, 2, 4, 0, 0)\n",
      " datetime.datetime(2017, 3, 4, 0, 0) datetime.datetime(2017, 4, 4, 0, 0)\n",
      " datetime.datetime(2017, 5, 4, 0, 0) datetime.datetime(2017, 6, 4, 0, 0)\n",
      " datetime.datetime(2017, 7, 4, 0, 0) datetime.datetime(2017, 8, 4, 0, 0)\n",
      " datetime.datetime(2017, 9, 4, 0, 0) datetime.datetime(2017, 10, 4, 0, 0)\n",
      " datetime.datetime(2017, 11, 4, 0, 0) datetime.datetime(2017, 12, 4, 0, 0)\n",
      " '4/13/2017' '4/15/2017' '4/16/2017' '4/17/2017' '4/18/2017' '4/19/2017'\n",
      " '4/20/2017' '4/21/2017' '4/22/2017' '4/23/2017' '4/24/2017' '4/25/2017'\n",
      " '4/26/2017' '4/27/2017' '4/28/2017' '4/29/2017' '4/30/2017'\n",
      " datetime.datetime(2017, 1, 5, 0, 0) datetime.datetime(2017, 2, 5, 0, 0)\n",
      " datetime.datetime(2017, 3, 5, 0, 0) datetime.datetime(2017, 4, 5, 0, 0)\n",
      " datetime.datetime(2017, 5, 5, 0, 0) datetime.datetime(2017, 7, 5, 0, 0)\n",
      " datetime.datetime(2017, 8, 5, 0, 0) datetime.datetime(2017, 9, 5, 0, 0)\n",
      " datetime.datetime(2017, 10, 5, 0, 0) datetime.datetime(2017, 11, 5, 0, 0)\n",
      " datetime.datetime(2017, 12, 5, 0, 0) '5/13/2017' '5/14/2017' '5/15/2017'\n",
      " '5/16/2017' '5/17/2017' '5/18/2017' '5/20/2017' '5/21/2017' '5/22/2017'\n",
      " '5/24/2017' '5/25/2017' '5/26/2017' '5/27/2017' '5/28/2017' '5/29/2017'\n",
      " '5/30/2017' '5/31/2017' datetime.datetime(2017, 1, 6, 0, 0)\n",
      " datetime.datetime(2017, 2, 6, 0, 0) datetime.datetime(2017, 3, 6, 0, 0)\n",
      " datetime.datetime(2017, 4, 6, 0, 0) datetime.datetime(2017, 5, 6, 0, 0)\n",
      " datetime.datetime(2017, 6, 6, 0, 0) datetime.datetime(2017, 7, 6, 0, 0)\n",
      " datetime.datetime(2017, 9, 6, 0, 0) datetime.datetime(2017, 10, 6, 0, 0)\n",
      " datetime.datetime(2017, 11, 6, 0, 0) datetime.datetime(2017, 12, 6, 0, 0)\n",
      " '6/13/2017' '6/14/2017' '6/15/2017' '6/16/2017' '6/17/2017' '6/18/2017'\n",
      " '6/19/2017' '6/21/2017' '6/22/2017' '6/23/2017' '6/24/2017' '6/25/2017'\n",
      " '6/26/2017' '6/27/2017' '6/28/2017' '6/29/2017' '6/30/2017'\n",
      " datetime.datetime(2017, 1, 7, 0, 0) datetime.datetime(2017, 2, 7, 0, 0)\n",
      " datetime.datetime(2017, 3, 7, 0, 0) datetime.datetime(2017, 4, 7, 0, 0)\n",
      " datetime.datetime(2017, 5, 7, 0, 0) datetime.datetime(2017, 6, 7, 0, 0)\n",
      " datetime.datetime(2017, 7, 7, 0, 0) datetime.datetime(2017, 8, 7, 0, 0)\n",
      " datetime.datetime(2017, 9, 7, 0, 0) datetime.datetime(2017, 10, 7, 0, 0)\n",
      " datetime.datetime(2017, 11, 7, 0, 0) datetime.datetime(2017, 12, 7, 0, 0)\n",
      " '7/13/2017' '7/14/2017' '7/15/2017' '7/16/2017' '7/17/2017' '7/18/2017'\n",
      " '7/20/2017' '7/21/2017' '7/22/2017' '7/23/2017' '7/25/2017' '7/26/2017'\n",
      " '7/27/2017' '7/28/2017' '7/29/2017' '7/30/2017' '7/31/2017'\n",
      " datetime.datetime(2017, 1, 8, 0, 0) datetime.datetime(2017, 2, 8, 0, 0)\n",
      " datetime.datetime(2017, 3, 8, 0, 0) datetime.datetime(2017, 4, 8, 0, 0)\n",
      " datetime.datetime(2017, 5, 8, 0, 0) datetime.datetime(2017, 6, 8, 0, 0)\n",
      " datetime.datetime(2017, 7, 8, 0, 0) datetime.datetime(2017, 8, 8, 0, 0)\n",
      " datetime.datetime(2017, 9, 8, 0, 0) datetime.datetime(2017, 10, 8, 0, 0)\n",
      " datetime.datetime(2017, 11, 8, 0, 0) datetime.datetime(2017, 12, 8, 0, 0)\n",
      " '8/13/2017' '8/14/2017' '8/15/2017' '8/16/2017' '8/17/2017' '8/18/2017'\n",
      " '8/19/2017' '8/20/2017' '8/21/2017' '8/23/2017' '8/24/2017' '8/25/2017'\n",
      " '8/26/2017' '8/27/2017' '8/28/2017' '8/29/2017' '8/30/2017' '8/31/2017'\n",
      " datetime.datetime(2017, 1, 9, 0, 0) datetime.datetime(2017, 2, 9, 0, 0)\n",
      " datetime.datetime(2017, 4, 9, 0, 0) datetime.datetime(2017, 5, 9, 0, 0)\n",
      " datetime.datetime(2017, 6, 9, 0, 0) datetime.datetime(2017, 7, 9, 0, 0)\n",
      " datetime.datetime(2017, 8, 9, 0, 0) datetime.datetime(2017, 9, 9, 0, 0)\n",
      " datetime.datetime(2017, 10, 9, 0, 0) datetime.datetime(2017, 11, 9, 0, 0)\n",
      " datetime.datetime(2017, 12, 9, 0, 0) '9/13/2017' '9/14/2017' '9/15/2017'\n",
      " '9/16/2017' '9/18/2017' '9/19/2017' '9/20/2017' '9/21/2017' '9/22/2017'\n",
      " '9/23/2017' '9/24/2017' '9/26/2017' '9/27/2017' '9/28/2017' '9/29/2017'\n",
      " '9/30/2017' datetime.datetime(2017, 1, 10, 0, 0)\n",
      " datetime.datetime(2017, 2, 10, 0, 0) datetime.datetime(2017, 3, 10, 0, 0)\n",
      " datetime.datetime(2017, 4, 10, 0, 0) datetime.datetime(2017, 5, 10, 0, 0)\n",
      " datetime.datetime(2017, 6, 10, 0, 0) datetime.datetime(2017, 7, 10, 0, 0)\n",
      " datetime.datetime(2017, 8, 10, 0, 0) datetime.datetime(2017, 9, 10, 0, 0)\n",
      " datetime.datetime(2017, 10, 10, 0, 0)\n",
      " datetime.datetime(2017, 11, 10, 0, 0)\n",
      " datetime.datetime(2017, 12, 10, 0, 0) '10/13/2017' '10/14/2017'\n",
      " '10/15/2017' '10/16/2017' '10/17/2017' '10/18/2017' '10/19/2017'\n",
      " '10/20/2017' '10/21/2017' '10/22/2017' '10/23/2017' '10/24/2017'\n",
      " '10/25/2017' '10/26/2017' '10/27/2017' '10/28/2017' '10/29/2017'\n",
      " '10/30/2017' '10/31/2017' datetime.datetime(2017, 1, 11, 0, 0)\n",
      " datetime.datetime(2017, 3, 11, 0, 0) datetime.datetime(2017, 4, 11, 0, 0)\n",
      " datetime.datetime(2017, 5, 11, 0, 0) datetime.datetime(2017, 6, 11, 0, 0)\n",
      " datetime.datetime(2017, 7, 11, 0, 0) datetime.datetime(2017, 8, 11, 0, 0)\n",
      " datetime.datetime(2017, 9, 11, 0, 0)\n",
      " datetime.datetime(2017, 10, 11, 0, 0)\n",
      " datetime.datetime(2017, 11, 11, 0, 0)\n",
      " datetime.datetime(2017, 12, 11, 0, 0) '11/13/2017' '11/14/2017'\n",
      " '11/15/2017' '11/16/2017' '11/17/2017' '11/18/2017' '11/19/2017'\n",
      " '11/20/2017' '11/21/2017' '11/22/2017' '11/23/2017' '11/24/2017'\n",
      " '11/25/2017' '11/26/2017' '11/27/2017' '11/28/2017' '11/29/2017'\n",
      " '11/30/2017' datetime.datetime(2017, 1, 12, 0, 0)\n",
      " datetime.datetime(2017, 3, 12, 0, 0) datetime.datetime(2017, 4, 12, 0, 0)\n",
      " datetime.datetime(2017, 5, 12, 0, 0) datetime.datetime(2017, 6, 12, 0, 0)\n",
      " datetime.datetime(2017, 7, 12, 0, 0) datetime.datetime(2017, 8, 12, 0, 0)\n",
      " datetime.datetime(2017, 9, 12, 0, 0)\n",
      " datetime.datetime(2017, 10, 12, 0, 0)\n",
      " datetime.datetime(2017, 11, 12, 0, 0)\n",
      " datetime.datetime(2017, 12, 12, 0, 0) '12/13/2017' '12/14/2017'\n",
      " '12/15/2017' '12/16/2017' '12/17/2017' '12/18/2017' '12/19/2017'\n",
      " '12/20/2017' '12/21/2017' '12/23/2017' '12/24/2017' '12/25/2017'\n",
      " '12/26/2017' '12/27/2017' '12/28/2017' '12/29/2017' '12/31/2017']\n",
      "SEX   ['Male' 'Female' 'female' 'male']\n",
      "H/O INJURY/SURGERY   ['no' 'vericose vein surgery' 'uteres removal' 'kidney stone opreration'\n",
      " 'uterus surgery' 'yes(diverticulities)' 'shouler surgery' 'knee surgery'\n",
      " 'yes(open heart surgery)']\n",
      "DRUG HISTORY   ['no' 'yes' 'yes(ecosprin)']\n"
     ]
    }
   ],
   "source": [
    "for feature in ['AGE','ASSO MEDICAL PROB','DATE','SEX','H/O INJURY/SURGERY','DRUG HISTORY']:\n",
    "    print(feature,' ',data[feature].unique())"
   ]
  },
  {
   "cell_type": "code",
   "execution_count": 220,
   "id": "00583125",
   "metadata": {
    "scrolled": true
   },
   "outputs": [
    {
     "name": "stdout",
     "output_type": "stream",
     "text": [
      "AGE \n",
      " 56    80\n",
      "68    60\n",
      "66    60\n",
      "52    60\n",
      "45    60\n",
      "57    40\n",
      "60    40\n",
      "55    40\n",
      "67    40\n",
      "69    40\n",
      "72    40\n",
      "39    40\n",
      "37    40\n",
      "62    40\n",
      "63    20\n",
      "70    20\n",
      "74    20\n",
      "76    20\n",
      "64    20\n",
      "29    20\n",
      "61    20\n",
      "36    20\n",
      "53    20\n",
      "49    20\n",
      "48    20\n",
      "44    20\n",
      "42    20\n",
      "41    20\n",
      "38    20\n",
      "85    20\n",
      "Name: AGE, dtype: int64\n",
      "ASSO MEDICAL PROB \n",
      " no                                 480\n",
      "No                                 160\n",
      "yes(diabetes)                      100\n",
      "yes(bp)                             60\n",
      "yes(diabetes,bp)                    40\n",
      "yes (diabetes)                      20\n",
      "kidney stone                        20\n",
      "yes(increase in heart rate)         20\n",
      "Yes(Diabetes,bp)                    20\n",
      "yes(bp dabetes)                     20\n",
      "Yes(Diabetes,Blockage in Heart)     20\n",
      "yes(diabetes,kidney stone)          20\n",
      "yes (diabetes,heart blockage)       20\n",
      "Name: ASSO MEDICAL PROB, dtype: int64\n",
      "DATE \n",
      " 2/25/2017              8\n",
      "1/24/2017              7\n",
      "2017-07-08 00:00:00    7\n",
      "9/20/2017              7\n",
      "8/23/2017              6\n",
      "                      ..\n",
      "4/19/2017              1\n",
      "4/20/2017              1\n",
      "4/22/2017              1\n",
      "4/24/2017              1\n",
      "2017-02-01 00:00:00    1\n",
      "Name: DATE, Length: 343, dtype: int64\n",
      "SEX \n",
      " Female    700\n",
      "Male      260\n",
      "female     20\n",
      "male       20\n",
      "Name: SEX, dtype: int64\n",
      "H/O INJURY/SURGERY \n",
      " no                         840\n",
      "vericose vein surgery       20\n",
      "uteres removal              20\n",
      "kidney stone opreration     20\n",
      "uterus surgery              20\n",
      "yes(diverticulities)        20\n",
      "shouler surgery             20\n",
      "knee surgery                20\n",
      "yes(open heart surgery)     20\n",
      "Name: H/O INJURY/SURGERY, dtype: int64\n",
      "DRUG HISTORY \n",
      " no               760\n",
      "yes              220\n",
      "yes(ecosprin)     20\n",
      "Name: DRUG HISTORY, dtype: int64\n"
     ]
    }
   ],
   "source": [
    "for feature in ['AGE','ASSO MEDICAL PROB','DATE','SEX','H/O INJURY/SURGERY','DRUG HISTORY']:\n",
    "    print(feature,'\\n',data[feature].value_counts())"
   ]
  },
  {
   "cell_type": "code",
   "execution_count": 221,
   "id": "17515a88",
   "metadata": {
    "scrolled": true
   },
   "outputs": [
    {
     "data": {
      "image/png": "[encoded data removed]",
      "text/plain": [
       "<Figure size 432x288 with 1 Axes>"
      ]
     },
     "metadata": {
      "needs_background": "light"
     },
     "output_type": "display_data"
    },
    {
     "data": {
      "image/png": "[encoded data removed]",
      "text/plain": [
       "<Figure size 432x288 with 1 Axes>"
      ]
     },
     "metadata": {
      "needs_background": "light"
     },
     "output_type": "display_data"
    },
    {
     "data": {
      "image/png": "[encoded data removed]",
      "text/plain": [
       "<Figure size 432x288 with 1 Axes>"
      ]
     },
     "metadata": {
      "needs_background": "light"
     },
     "output_type": "display_data"
    },
    {
     "data": {
      "image/png": "[encoded data removed]",
      "text/plain": [
       "<Figure size 432x288 with 1 Axes>"
      ]
     },
     "metadata": {
      "needs_background": "light"
     },
     "output_type": "display_data"
    },
    {
     "data": {
      "image/png": "[encoded data removed]",
      "text/plain": [
       "<Figure size 432x288 with 1 Axes>"
      ]
     },
     "metadata": {
      "needs_background": "light"
     },
     "output_type": "display_data"
    },
    {
     "data": {
      "image/png": "[encoded data removed]",
      "text/plain": [
       "<Figure size 432x288 with 1 Axes>"
      ]
     },
     "metadata": {
      "needs_background": "light"
     },
     "output_type": "display_data"
    }
   ],
   "source": [
    "for feature in ['AGE','ASSO MEDICAL PROB','DATE','SEX','H/O INJURY/SURGERY','DRUG HISTORY']:\n",
    "    data[feature].value_counts().plot.bar()\n",
    "    plt.show()"
   ]
  },
  {
   "cell_type": "code",
   "execution_count": 222,
   "id": "ebaa0025",
   "metadata": {},
   "outputs": [
    {
     "data": {
      "text/plain": [
       "SI.NO                   int64\n",
       "DATE                   object\n",
       "NAME                   object\n",
       "AGE                     int64\n",
       "SEX                    object\n",
       "ASSO MEDICAL PROB      object\n",
       "H/O INJURY/SURGERY     object\n",
       "DRUG HISTORY           object\n",
       "FREQUENCY              object\n",
       "avg                   float64\n",
       "dtype: object"
      ]
     },
     "execution_count": 222,
     "metadata": {},
     "output_type": "execute_result"
    }
   ],
   "source": [
    "data.dtypes"
   ]
  },
  {
   "cell_type": "code",
   "execution_count": 223,
   "id": "b81a15b0",
   "metadata": {},
   "outputs": [
    {
     "data": {
      "text/plain": [
       "0      2017-02-01 00:00:00\n",
       "1      2017-03-01 00:00:00\n",
       "2      2017-03-01 00:00:00\n",
       "3      2017-03-01 00:00:00\n",
       "4      2017-03-01 00:00:00\n",
       "              ...         \n",
       "995             12/29/2017\n",
       "996             12/29/2017\n",
       "997             12/31/2017\n",
       "998             12/31/2017\n",
       "999             12/31/2017\n",
       "Name: DATE, Length: 1000, dtype: object"
      ]
     },
     "execution_count": 223,
     "metadata": {},
     "output_type": "execute_result"
    }
   ],
   "source": [
    "data['DATE']"
   ]
  },
  {
   "cell_type": "code",
   "execution_count": 224,
   "id": "f1bcf745",
   "metadata": {},
   "outputs": [
    {
     "data": {
      "text/plain": [
       "'01/02/2017'"
      ]
     },
     "execution_count": 224,
     "metadata": {},
     "output_type": "execute_result"
    }
   ],
   "source": [
    "datetime.strptime('2017-02-01 00:00:00', '%Y-%m-%d %H:%M:%S').strftime('%d/%m/%Y')"
   ]
  },
  {
   "cell_type": "code",
   "execution_count": 225,
   "id": "e0b1994c",
   "metadata": {},
   "outputs": [
    {
     "data": {
      "text/plain": [
       "datetime.datetime"
      ]
     },
     "execution_count": 225,
     "metadata": {},
     "output_type": "execute_result"
    }
   ],
   "source": [
    "type(data['DATE'][0])"
   ]
  },
  {
   "cell_type": "code",
   "execution_count": 226,
   "id": "bc44466b",
   "metadata": {},
   "outputs": [
    {
     "data": {
      "text/plain": [
       "str"
      ]
     },
     "execution_count": 226,
     "metadata": {},
     "output_type": "execute_result"
    }
   ],
   "source": [
    "type(data['DATE'][999])"
   ]
  },
  {
   "cell_type": "code",
   "execution_count": 227,
   "id": "a3d5face",
   "metadata": {},
   "outputs": [],
   "source": [
    "def try_parsing_date(text):\n",
    "    if type(text) == str:\n",
    "        return datetime.strptime(text, '%m/%d/%Y').strftime('%d/%m/%Y')\n",
    "    else:\n",
    "        return text.strftime('%d/%m/%Y')"
   ]
  },
  {
   "cell_type": "code",
   "execution_count": 228,
   "id": "59be36b2",
   "metadata": {},
   "outputs": [],
   "source": [
    "data.DATE = [(try_parsing_date(i)) for i in data.DATE]"
   ]
  },
  {
   "cell_type": "code",
   "execution_count": 229,
   "id": "c0262b1c",
   "metadata": {},
   "outputs": [
    {
     "data": {
      "text/plain": [
       "0      01/02/2017\n",
       "1      01/03/2017\n",
       "2      01/03/2017\n",
       "3      01/03/2017\n",
       "4      01/03/2017\n",
       "          ...    \n",
       "995    29/12/2017\n",
       "996    29/12/2017\n",
       "997    31/12/2017\n",
       "998    31/12/2017\n",
       "999    31/12/2017\n",
       "Name: DATE, Length: 1000, dtype: object"
      ]
     },
     "execution_count": 229,
     "metadata": {},
     "output_type": "execute_result"
    }
   ],
   "source": [
    "data['DATE']"
   ]
  },
  {
   "cell_type": "code",
   "execution_count": 230,
   "id": "6038e1f5",
   "metadata": {},
   "outputs": [
    {
     "data": {
      "text/plain": [
       "Female    700\n",
       "Male      260\n",
       "female     20\n",
       "male       20\n",
       "Name: SEX, dtype: int64"
      ]
     },
     "execution_count": 230,
     "metadata": {},
     "output_type": "execute_result"
    }
   ],
   "source": [
    "data['SEX'].value_counts()"
   ]
  },
  {
   "cell_type": "code",
   "execution_count": 231,
   "id": "2b7ff7bc",
   "metadata": {},
   "outputs": [],
   "source": [
    "data['SEX'].replace({'female':'Female', 'male':'Male'}, inplace=True)"
   ]
  },
  {
   "cell_type": "code",
   "execution_count": 232,
   "id": "77cbf0ea",
   "metadata": {},
   "outputs": [
    {
     "data": {
      "text/plain": [
       "Female    720\n",
       "Male      280\n",
       "Name: SEX, dtype: int64"
      ]
     },
     "execution_count": 232,
     "metadata": {},
     "output_type": "execute_result"
    }
   ],
   "source": [
    "data['SEX'].value_counts()"
   ]
  },
  {
   "cell_type": "code",
   "execution_count": 233,
   "id": "fa0a77c3",
   "metadata": {
    "scrolled": true
   },
   "outputs": [
    {
     "data": {
      "text/plain": [
       "no                                 480\n",
       "No                                 160\n",
       "yes(diabetes)                      100\n",
       "yes(bp)                             60\n",
       "yes(diabetes,bp)                    40\n",
       "yes (diabetes)                      20\n",
       "kidney stone                        20\n",
       "yes(increase in heart rate)         20\n",
       "Yes(Diabetes,bp)                    20\n",
       "yes(bp dabetes)                     20\n",
       "Yes(Diabetes,Blockage in Heart)     20\n",
       "yes(diabetes,kidney stone)          20\n",
       "yes (diabetes,heart blockage)       20\n",
       "Name: ASSO MEDICAL PROB, dtype: int64"
      ]
     },
     "execution_count": 233,
     "metadata": {},
     "output_type": "execute_result"
    }
   ],
   "source": [
    "data['ASSO MEDICAL PROB'].value_counts()"
   ]
  },
  {
   "cell_type": "code",
   "execution_count": 234,
   "id": "3f4273bc",
   "metadata": {},
   "outputs": [],
   "source": [
    "data['ASSO MEDICAL PROB'].replace({'No':'no', \n",
    "                                   'yes (diabetes)':'yes(diabetes)', \n",
    "                                   'Yes(Diabetes,bp)':'yes(diabetes,bp)',\n",
    "                                  'Yes(Diabetes,Blockage in Heart)':'yes (diabetes,heart blockage)',\n",
    "                                  'yes(bp dabetes)':'yes(diabetes,bp)'}, inplace=True)"
   ]
  },
  {
   "cell_type": "code",
   "execution_count": 235,
   "id": "2533e9b2",
   "metadata": {},
   "outputs": [
    {
     "data": {
      "text/plain": [
       "no                               640\n",
       "yes(diabetes)                    120\n",
       "yes(diabetes,bp)                  80\n",
       "yes(bp)                           60\n",
       "yes (diabetes,heart blockage)     40\n",
       "kidney stone                      20\n",
       "yes(increase in heart rate)       20\n",
       "yes(diabetes,kidney stone)        20\n",
       "Name: ASSO MEDICAL PROB, dtype: int64"
      ]
     },
     "execution_count": 235,
     "metadata": {},
     "output_type": "execute_result"
    }
   ],
   "source": [
    "data['ASSO MEDICAL PROB'].value_counts()"
   ]
  },
  {
   "cell_type": "code",
   "execution_count": 236,
   "id": "336dfa35",
   "metadata": {},
   "outputs": [
    {
     "data": {
      "text/plain": [
       "no                         840\n",
       "vericose vein surgery       20\n",
       "uteres removal              20\n",
       "kidney stone opreration     20\n",
       "uterus surgery              20\n",
       "yes(diverticulities)        20\n",
       "shouler surgery             20\n",
       "knee surgery                20\n",
       "yes(open heart surgery)     20\n",
       "Name: H/O INJURY/SURGERY, dtype: int64"
      ]
     },
     "execution_count": 236,
     "metadata": {},
     "output_type": "execute_result"
    }
   ],
   "source": [
    "data['H/O INJURY/SURGERY'].value_counts()"
   ]
  },
  {
   "cell_type": "code",
   "execution_count": 237,
   "id": "dd50a9ee",
   "metadata": {},
   "outputs": [],
   "source": [
    "data['H/O INJURY/SURGERY'].replace({'uteres surgery':'uterus surgery'}, inplace=True)"
   ]
  },
  {
   "cell_type": "code",
   "execution_count": 238,
   "id": "c0178d7b",
   "metadata": {},
   "outputs": [
    {
     "data": {
      "text/plain": [
       "no                         840\n",
       "vericose vein surgery       20\n",
       "uteres removal              20\n",
       "kidney stone opreration     20\n",
       "uterus surgery              20\n",
       "yes(diverticulities)        20\n",
       "shouler surgery             20\n",
       "knee surgery                20\n",
       "yes(open heart surgery)     20\n",
       "Name: H/O INJURY/SURGERY, dtype: int64"
      ]
     },
     "execution_count": 238,
     "metadata": {},
     "output_type": "execute_result"
    }
   ],
   "source": [
    "data['H/O INJURY/SURGERY'].value_counts()"
   ]
  },
  {
   "cell_type": "code",
   "execution_count": 239,
   "id": "a3b4be8c",
   "metadata": {},
   "outputs": [
    {
     "data": {
      "text/plain": [
       "no               760\n",
       "yes              220\n",
       "yes(ecosprin)     20\n",
       "Name: DRUG HISTORY, dtype: int64"
      ]
     },
     "execution_count": 239,
     "metadata": {},
     "output_type": "execute_result"
    }
   ],
   "source": [
    "data['DRUG HISTORY'].value_counts()"
   ]
  },
  {
   "cell_type": "code",
   "execution_count": 240,
   "id": "e124bc88",
   "metadata": {
    "scrolled": false
   },
   "outputs": [
    {
     "data": {
      "text/html": [
       "<div>\n",
       "<style scoped>\n",
       "    .dataframe tbody tr th:only-of-type {\n",
       "        vertical-align: middle;\n",
       "    }\n",
       "\n",
       "    .dataframe tbody tr th {\n",
       "        vertical-align: top;\n",
       "    }\n",
       "\n",
       "    .dataframe thead th {\n",
       "        text-align: right;\n",
       "    }\n",
       "</style>\n",
       "<table border=\"1\" class=\"dataframe\">\n",
       "  <thead>\n",
       "    <tr style=\"text-align: right;\">\n",
       "      <th></th>\n",
       "      <th>SI.NO</th>\n",
       "      <th>DATE</th>\n",
       "      <th>NAME</th>\n",
       "      <th>AGE</th>\n",
       "      <th>SEX</th>\n",
       "      <th>ASSO MEDICAL PROB</th>\n",
       "      <th>H/O INJURY/SURGERY</th>\n",
       "      <th>DRUG HISTORY</th>\n",
       "      <th>FREQUENCY</th>\n",
       "      <th>avg</th>\n",
       "    </tr>\n",
       "  </thead>\n",
       "  <tbody>\n",
       "    <tr>\n",
       "      <th>995</th>\n",
       "      <td>996</td>\n",
       "      <td>29/12/2017</td>\n",
       "      <td>PATIENT_996</td>\n",
       "      <td>72</td>\n",
       "      <td>Male</td>\n",
       "      <td>no</td>\n",
       "      <td>no</td>\n",
       "      <td>no</td>\n",
       "      <td>68, 69, 68</td>\n",
       "      <td>68.30</td>\n",
       "    </tr>\n",
       "    <tr>\n",
       "      <th>996</th>\n",
       "      <td>997</td>\n",
       "      <td>29/12/2017</td>\n",
       "      <td>PATIENT_997</td>\n",
       "      <td>72</td>\n",
       "      <td>Male</td>\n",
       "      <td>yes (diabetes,heart blockage)</td>\n",
       "      <td>shouler surgery</td>\n",
       "      <td>yes</td>\n",
       "      <td>69,70,71</td>\n",
       "      <td>70.00</td>\n",
       "    </tr>\n",
       "    <tr>\n",
       "      <th>997</th>\n",
       "      <td>998</td>\n",
       "      <td>31/12/2017</td>\n",
       "      <td>PATIENT_998</td>\n",
       "      <td>74</td>\n",
       "      <td>Female</td>\n",
       "      <td>yes(diabetes,bp)</td>\n",
       "      <td>knee surgery</td>\n",
       "      <td>yes</td>\n",
       "      <td>63,62,62.6</td>\n",
       "      <td>62.53</td>\n",
       "    </tr>\n",
       "    <tr>\n",
       "      <th>998</th>\n",
       "      <td>999</td>\n",
       "      <td>31/12/2017</td>\n",
       "      <td>PATIENT_999</td>\n",
       "      <td>76</td>\n",
       "      <td>Male</td>\n",
       "      <td>yes(diabetes,kidney stone)</td>\n",
       "      <td>no</td>\n",
       "      <td>no</td>\n",
       "      <td>62,61,62.5</td>\n",
       "      <td>61.83</td>\n",
       "    </tr>\n",
       "    <tr>\n",
       "      <th>999</th>\n",
       "      <td>1000</td>\n",
       "      <td>31/12/2017</td>\n",
       "      <td>PATIENT_1000</td>\n",
       "      <td>85</td>\n",
       "      <td>Male</td>\n",
       "      <td>yes (diabetes,heart blockage)</td>\n",
       "      <td>yes(open heart surgery)</td>\n",
       "      <td>yes</td>\n",
       "      <td>62,63,64</td>\n",
       "      <td>63.00</td>\n",
       "    </tr>\n",
       "  </tbody>\n",
       "</table>\n",
       "</div>"
      ],
      "text/plain": [
       "     SI.NO        DATE          NAME  AGE     SEX  \\\n",
       "995    996  29/12/2017   PATIENT_996   72    Male   \n",
       "996    997  29/12/2017   PATIENT_997   72    Male   \n",
       "997    998  31/12/2017   PATIENT_998   74  Female   \n",
       "998    999  31/12/2017   PATIENT_999   76    Male   \n",
       "999   1000  31/12/2017  PATIENT_1000   85    Male   \n",
       "\n",
       "                 ASSO MEDICAL PROB       H/O INJURY/SURGERY DRUG HISTORY  \\\n",
       "995                             no                       no           no   \n",
       "996  yes (diabetes,heart blockage)          shouler surgery          yes   \n",
       "997               yes(diabetes,bp)             knee surgery          yes   \n",
       "998     yes(diabetes,kidney stone)                       no           no   \n",
       "999  yes (diabetes,heart blockage)  yes(open heart surgery)          yes   \n",
       "\n",
       "      FREQUENCY    avg  \n",
       "995  68, 69, 68  68.30  \n",
       "996    69,70,71  70.00  \n",
       "997  63,62,62.6  62.53  \n",
       "998  62,61,62.5  61.83  \n",
       "999    62,63,64  63.00  "
      ]
     },
     "execution_count": 240,
     "metadata": {},
     "output_type": "execute_result"
    }
   ],
   "source": [
    "data.tail()"
   ]
  },
  {
   "cell_type": "code",
   "execution_count": 241,
   "id": "b80bc7a5",
   "metadata": {
    "scrolled": true
   },
   "outputs": [],
   "source": [
    "def tv(i):\n",
    "    if (i<60):\n",
    "        return 'Normal'\n",
    "    elif (i>=60 and i<=100):\n",
    "        return 'Osteopenia'\n",
    "    else:\n",
    "        return 'Osteoporotic'"
   ]
  },
  {
   "cell_type": "code",
   "execution_count": 242,
   "id": "75e236da",
   "metadata": {},
   "outputs": [],
   "source": [
    "data['output'] = data['avg'].astype(int).apply(tv)"
   ]
  },
  {
   "cell_type": "code",
   "execution_count": 245,
   "id": "bcb336cc",
   "metadata": {
    "scrolled": true
   },
   "outputs": [
    {
     "data": {
      "text/html": [
       "<div>\n",
       "<style scoped>\n",
       "    .dataframe tbody tr th:only-of-type {\n",
       "        vertical-align: middle;\n",
       "    }\n",
       "\n",
       "    .dataframe tbody tr th {\n",
       "        vertical-align: top;\n",
       "    }\n",
       "\n",
       "    .dataframe thead th {\n",
       "        text-align: right;\n",
       "    }\n",
       "</style>\n",
       "<table border=\"1\" class=\"dataframe\">\n",
       "  <thead>\n",
       "    <tr style=\"text-align: right;\">\n",
       "      <th></th>\n",
       "      <th>SI.NO</th>\n",
       "      <th>DATE</th>\n",
       "      <th>NAME</th>\n",
       "      <th>AGE</th>\n",
       "      <th>SEX</th>\n",
       "      <th>ASSO MEDICAL PROB</th>\n",
       "      <th>H/O INJURY/SURGERY</th>\n",
       "      <th>DRUG HISTORY</th>\n",
       "      <th>FREQUENCY</th>\n",
       "      <th>avg</th>\n",
       "      <th>output</th>\n",
       "    </tr>\n",
       "  </thead>\n",
       "  <tbody>\n",
       "    <tr>\n",
       "      <th>0</th>\n",
       "      <td>1</td>\n",
       "      <td>01/02/2017</td>\n",
       "      <td>PATIENT_1</td>\n",
       "      <td>29</td>\n",
       "      <td>Male</td>\n",
       "      <td>no</td>\n",
       "      <td>no</td>\n",
       "      <td>no</td>\n",
       "      <td>115, 115, 113</td>\n",
       "      <td>114.3</td>\n",
       "      <td>Osteoporotic</td>\n",
       "    </tr>\n",
       "    <tr>\n",
       "      <th>50</th>\n",
       "      <td>51</td>\n",
       "      <td>23/01/2017</td>\n",
       "      <td>PATIENT_51</td>\n",
       "      <td>29</td>\n",
       "      <td>Male</td>\n",
       "      <td>no</td>\n",
       "      <td>no</td>\n",
       "      <td>no</td>\n",
       "      <td>115, 115, 113</td>\n",
       "      <td>114.3</td>\n",
       "      <td>Osteoporotic</td>\n",
       "    </tr>\n",
       "    <tr>\n",
       "      <th>100</th>\n",
       "      <td>101</td>\n",
       "      <td>02/09/2017</td>\n",
       "      <td>PATIENT_101</td>\n",
       "      <td>29</td>\n",
       "      <td>Male</td>\n",
       "      <td>no</td>\n",
       "      <td>no</td>\n",
       "      <td>no</td>\n",
       "      <td>115, 115, 113</td>\n",
       "      <td>114.3</td>\n",
       "      <td>Osteoporotic</td>\n",
       "    </tr>\n",
       "    <tr>\n",
       "      <th>150</th>\n",
       "      <td>151</td>\n",
       "      <td>26/02/2017</td>\n",
       "      <td>PATIENT_151</td>\n",
       "      <td>29</td>\n",
       "      <td>Male</td>\n",
       "      <td>no</td>\n",
       "      <td>no</td>\n",
       "      <td>no</td>\n",
       "      <td>115, 115, 113</td>\n",
       "      <td>114.3</td>\n",
       "      <td>Osteoporotic</td>\n",
       "    </tr>\n",
       "    <tr>\n",
       "      <th>200</th>\n",
       "      <td>201</td>\n",
       "      <td>19/03/2017</td>\n",
       "      <td>PATIENT_201</td>\n",
       "      <td>29</td>\n",
       "      <td>Male</td>\n",
       "      <td>no</td>\n",
       "      <td>no</td>\n",
       "      <td>no</td>\n",
       "      <td>115, 115, 113</td>\n",
       "      <td>114.3</td>\n",
       "      <td>Osteoporotic</td>\n",
       "    </tr>\n",
       "    <tr>\n",
       "      <th>250</th>\n",
       "      <td>251</td>\n",
       "      <td>04/05/2017</td>\n",
       "      <td>PATIENT_251</td>\n",
       "      <td>29</td>\n",
       "      <td>Male</td>\n",
       "      <td>no</td>\n",
       "      <td>no</td>\n",
       "      <td>no</td>\n",
       "      <td>115, 115, 113</td>\n",
       "      <td>114.3</td>\n",
       "      <td>Osteoporotic</td>\n",
       "    </tr>\n",
       "    <tr>\n",
       "      <th>300</th>\n",
       "      <td>301</td>\n",
       "      <td>27/04/2017</td>\n",
       "      <td>PATIENT_301</td>\n",
       "      <td>29</td>\n",
       "      <td>Male</td>\n",
       "      <td>no</td>\n",
       "      <td>no</td>\n",
       "      <td>no</td>\n",
       "      <td>115, 115, 113</td>\n",
       "      <td>114.3</td>\n",
       "      <td>Osteoporotic</td>\n",
       "    </tr>\n",
       "    <tr>\n",
       "      <th>350</th>\n",
       "      <td>351</td>\n",
       "      <td>15/05/2017</td>\n",
       "      <td>PATIENT_351</td>\n",
       "      <td>29</td>\n",
       "      <td>Male</td>\n",
       "      <td>no</td>\n",
       "      <td>no</td>\n",
       "      <td>no</td>\n",
       "      <td>115, 115, 113</td>\n",
       "      <td>114.3</td>\n",
       "      <td>Osteoporotic</td>\n",
       "    </tr>\n",
       "    <tr>\n",
       "      <th>400</th>\n",
       "      <td>401</td>\n",
       "      <td>06/03/2017</td>\n",
       "      <td>PATIENT_401</td>\n",
       "      <td>29</td>\n",
       "      <td>Male</td>\n",
       "      <td>no</td>\n",
       "      <td>no</td>\n",
       "      <td>no</td>\n",
       "      <td>115, 115, 113</td>\n",
       "      <td>114.3</td>\n",
       "      <td>Osteoporotic</td>\n",
       "    </tr>\n",
       "    <tr>\n",
       "      <th>450</th>\n",
       "      <td>451</td>\n",
       "      <td>22/06/2017</td>\n",
       "      <td>PATIENT_451</td>\n",
       "      <td>29</td>\n",
       "      <td>Male</td>\n",
       "      <td>no</td>\n",
       "      <td>no</td>\n",
       "      <td>no</td>\n",
       "      <td>115, 115, 113</td>\n",
       "      <td>114.3</td>\n",
       "      <td>Osteoporotic</td>\n",
       "    </tr>\n",
       "    <tr>\n",
       "      <th>500</th>\n",
       "      <td>501</td>\n",
       "      <td>07/10/2017</td>\n",
       "      <td>PATIENT_501</td>\n",
       "      <td>29</td>\n",
       "      <td>Male</td>\n",
       "      <td>no</td>\n",
       "      <td>no</td>\n",
       "      <td>no</td>\n",
       "      <td>115, 115, 113</td>\n",
       "      <td>114.3</td>\n",
       "      <td>Osteoporotic</td>\n",
       "    </tr>\n",
       "    <tr>\n",
       "      <th>550</th>\n",
       "      <td>551</td>\n",
       "      <td>28/07/2017</td>\n",
       "      <td>PATIENT_551</td>\n",
       "      <td>29</td>\n",
       "      <td>Male</td>\n",
       "      <td>no</td>\n",
       "      <td>no</td>\n",
       "      <td>no</td>\n",
       "      <td>115, 115, 113</td>\n",
       "      <td>114.3</td>\n",
       "      <td>Osteoporotic</td>\n",
       "    </tr>\n",
       "    <tr>\n",
       "      <th>600</th>\n",
       "      <td>601</td>\n",
       "      <td>08/11/2017</td>\n",
       "      <td>PATIENT_601</td>\n",
       "      <td>29</td>\n",
       "      <td>Male</td>\n",
       "      <td>no</td>\n",
       "      <td>no</td>\n",
       "      <td>no</td>\n",
       "      <td>115, 115, 113</td>\n",
       "      <td>114.3</td>\n",
       "      <td>Osteoporotic</td>\n",
       "    </tr>\n",
       "    <tr>\n",
       "      <th>650</th>\n",
       "      <td>651</td>\n",
       "      <td>25/08/2017</td>\n",
       "      <td>PATIENT_651</td>\n",
       "      <td>29</td>\n",
       "      <td>Male</td>\n",
       "      <td>no</td>\n",
       "      <td>no</td>\n",
       "      <td>no</td>\n",
       "      <td>115, 115, 113</td>\n",
       "      <td>114.3</td>\n",
       "      <td>Osteoporotic</td>\n",
       "    </tr>\n",
       "    <tr>\n",
       "      <th>700</th>\n",
       "      <td>701</td>\n",
       "      <td>09/10/2017</td>\n",
       "      <td>PATIENT_701</td>\n",
       "      <td>29</td>\n",
       "      <td>Male</td>\n",
       "      <td>no</td>\n",
       "      <td>no</td>\n",
       "      <td>no</td>\n",
       "      <td>115, 115, 113</td>\n",
       "      <td>114.3</td>\n",
       "      <td>Osteoporotic</td>\n",
       "    </tr>\n",
       "    <tr>\n",
       "      <th>750</th>\n",
       "      <td>751</td>\n",
       "      <td>24/09/2017</td>\n",
       "      <td>PATIENT_751</td>\n",
       "      <td>29</td>\n",
       "      <td>Male</td>\n",
       "      <td>no</td>\n",
       "      <td>no</td>\n",
       "      <td>no</td>\n",
       "      <td>115, 115, 113</td>\n",
       "      <td>114.3</td>\n",
       "      <td>Osteoporotic</td>\n",
       "    </tr>\n",
       "    <tr>\n",
       "      <th>800</th>\n",
       "      <td>801</td>\n",
       "      <td>10/11/2017</td>\n",
       "      <td>PATIENT_801</td>\n",
       "      <td>29</td>\n",
       "      <td>Male</td>\n",
       "      <td>no</td>\n",
       "      <td>no</td>\n",
       "      <td>no</td>\n",
       "      <td>115, 115, 113</td>\n",
       "      <td>114.3</td>\n",
       "      <td>Osteoporotic</td>\n",
       "    </tr>\n",
       "    <tr>\n",
       "      <th>850</th>\n",
       "      <td>851</td>\n",
       "      <td>27/10/2017</td>\n",
       "      <td>PATIENT_851</td>\n",
       "      <td>29</td>\n",
       "      <td>Male</td>\n",
       "      <td>no</td>\n",
       "      <td>no</td>\n",
       "      <td>no</td>\n",
       "      <td>115, 115, 113</td>\n",
       "      <td>114.3</td>\n",
       "      <td>Osteoporotic</td>\n",
       "    </tr>\n",
       "    <tr>\n",
       "      <th>900</th>\n",
       "      <td>901</td>\n",
       "      <td>20/11/2017</td>\n",
       "      <td>PATIENT_901</td>\n",
       "      <td>29</td>\n",
       "      <td>Male</td>\n",
       "      <td>no</td>\n",
       "      <td>no</td>\n",
       "      <td>no</td>\n",
       "      <td>115, 115, 113</td>\n",
       "      <td>114.3</td>\n",
       "      <td>Osteoporotic</td>\n",
       "    </tr>\n",
       "    <tr>\n",
       "      <th>950</th>\n",
       "      <td>951</td>\n",
       "      <td>12/11/2017</td>\n",
       "      <td>PATIENT_951</td>\n",
       "      <td>29</td>\n",
       "      <td>Male</td>\n",
       "      <td>no</td>\n",
       "      <td>no</td>\n",
       "      <td>no</td>\n",
       "      <td>115, 115, 113</td>\n",
       "      <td>114.3</td>\n",
       "      <td>Osteoporotic</td>\n",
       "    </tr>\n",
       "  </tbody>\n",
       "</table>\n",
       "</div>"
      ],
      "text/plain": [
       "     SI.NO        DATE         NAME  AGE   SEX ASSO MEDICAL PROB  \\\n",
       "0        1  01/02/2017    PATIENT_1   29  Male                no   \n",
       "50      51  23/01/2017   PATIENT_51   29  Male                no   \n",
       "100    101  02/09/2017  PATIENT_101   29  Male                no   \n",
       "150    151  26/02/2017  PATIENT_151   29  Male                no   \n",
       "200    201  19/03/2017  PATIENT_201   29  Male                no   \n",
       "250    251  04/05/2017  PATIENT_251   29  Male                no   \n",
       "300    301  27/04/2017  PATIENT_301   29  Male                no   \n",
       "350    351  15/05/2017  PATIENT_351   29  Male                no   \n",
       "400    401  06/03/2017  PATIENT_401   29  Male                no   \n",
       "450    451  22/06/2017  PATIENT_451   29  Male                no   \n",
       "500    501  07/10/2017  PATIENT_501   29  Male                no   \n",
       "550    551  28/07/2017  PATIENT_551   29  Male                no   \n",
       "600    601  08/11/2017  PATIENT_601   29  Male                no   \n",
       "650    651  25/08/2017  PATIENT_651   29  Male                no   \n",
       "700    701  09/10/2017  PATIENT_701   29  Male                no   \n",
       "750    751  24/09/2017  PATIENT_751   29  Male                no   \n",
       "800    801  10/11/2017  PATIENT_801   29  Male                no   \n",
       "850    851  27/10/2017  PATIENT_851   29  Male                no   \n",
       "900    901  20/11/2017  PATIENT_901   29  Male                no   \n",
       "950    951  12/11/2017  PATIENT_951   29  Male                no   \n",
       "\n",
       "    H/O INJURY/SURGERY DRUG HISTORY      FREQUENCY    avg        output  \n",
       "0                   no           no  115, 115, 113  114.3  Osteoporotic  \n",
       "50                  no           no  115, 115, 113  114.3  Osteoporotic  \n",
       "100                 no           no  115, 115, 113  114.3  Osteoporotic  \n",
       "150                 no           no  115, 115, 113  114.3  Osteoporotic  \n",
       "200                 no           no  115, 115, 113  114.3  Osteoporotic  \n",
       "250                 no           no  115, 115, 113  114.3  Osteoporotic  \n",
       "300                 no           no  115, 115, 113  114.3  Osteoporotic  \n",
       "350                 no           no  115, 115, 113  114.3  Osteoporotic  \n",
       "400                 no           no  115, 115, 113  114.3  Osteoporotic  \n",
       "450                 no           no  115, 115, 113  114.3  Osteoporotic  \n",
       "500                 no           no  115, 115, 113  114.3  Osteoporotic  \n",
       "550                 no           no  115, 115, 113  114.3  Osteoporotic  \n",
       "600                 no           no  115, 115, 113  114.3  Osteoporotic  \n",
       "650                 no           no  115, 115, 113  114.3  Osteoporotic  \n",
       "700                 no           no  115, 115, 113  114.3  Osteoporotic  \n",
       "750                 no           no  115, 115, 113  114.3  Osteoporotic  \n",
       "800                 no           no  115, 115, 113  114.3  Osteoporotic  \n",
       "850                 no           no  115, 115, 113  114.3  Osteoporotic  \n",
       "900                 no           no  115, 115, 113  114.3  Osteoporotic  \n",
       "950                 no           no  115, 115, 113  114.3  Osteoporotic  "
      ]
     },
     "execution_count": 245,
     "metadata": {},
     "output_type": "execute_result"
    }
   ],
   "source": [
    "data[data['avg']>101]"
   ]
  },
  {
   "cell_type": "code",
   "execution_count": 246,
   "id": "9dbf21db",
   "metadata": {
    "scrolled": true
   },
   "outputs": [
    {
     "data": {
      "image/png": "[encoded data removed]",
      "text/plain": [
       "<Figure size 432x288 with 1 Axes>"
      ]
     },
     "metadata": {
      "needs_background": "light"
     },
     "output_type": "display_data"
    },
    {
     "data": {
      "image/png": "[encoded data removed]",
      "text/plain": [
       "<Figure size 432x288 with 1 Axes>"
      ]
     },
     "metadata": {
      "needs_background": "light"
     },
     "output_type": "display_data"
    },
    {
     "data": {
      "image/png": "[encoded data removed]",
      "text/plain": [
       "<Figure size 432x288 with 1 Axes>"
      ]
     },
     "metadata": {
      "needs_background": "light"
     },
     "output_type": "display_data"
    },
    {
     "data": {
      "image/png": "[encoded data removed]",
      "text/plain": [
       "<Figure size 432x288 with 1 Axes>"
      ]
     },
     "metadata": {
      "needs_background": "light"
     },
     "output_type": "display_data"
    },
    {
     "data": {
      "image/png": "[encoded data removed]",
      "text/plain": [
       "<Figure size 432x288 with 1 Axes>"
      ]
     },
     "metadata": {
      "needs_background": "light"
     },
     "output_type": "display_data"
    },
    {
     "data": {
      "image/png": "[encoded data removed]",
      "text/plain": [
       "<Figure size 432x288 with 1 Axes>"
      ]
     },
     "metadata": {
      "needs_background": "light"
     },
     "output_type": "display_data"
    },
    {
     "data": {
      "image/png": "[encoded data removed]",
      "text/plain": [
       "<Figure size 432x288 with 1 Axes>"
      ]
     },
     "metadata": {
      "needs_background": "light"
     },
     "output_type": "display_data"
    }
   ],
   "source": [
    "for feature in ['AGE','ASSO MEDICAL PROB','DATE','SEX','H/O INJURY/SURGERY','DRUG HISTORY', 'output']:\n",
    "    data[feature].value_counts().plot.bar()\n",
    "    plt.title(feature)\n",
    "    plt.show()"
   ]
  },
  {
   "cell_type": "code",
   "execution_count": 297,
   "id": "16095706",
   "metadata": {
    "scrolled": true
   },
   "outputs": [
    {
     "data": {
      "text/html": [
       "<div>\n",
       "<style scoped>\n",
       "    .dataframe tbody tr th:only-of-type {\n",
       "        vertical-align: middle;\n",
       "    }\n",
       "\n",
       "    .dataframe tbody tr th {\n",
       "        vertical-align: top;\n",
       "    }\n",
       "\n",
       "    .dataframe thead th {\n",
       "        text-align: right;\n",
       "    }\n",
       "</style>\n",
       "<table border=\"1\" class=\"dataframe\">\n",
       "  <thead>\n",
       "    <tr style=\"text-align: right;\">\n",
       "      <th></th>\n",
       "      <th>AGE</th>\n",
       "      <th>SEX</th>\n",
       "      <th>ASSO MEDICAL PROB</th>\n",
       "      <th>H/O INJURY/SURGERY</th>\n",
       "      <th>DRUG HISTORY</th>\n",
       "    </tr>\n",
       "  </thead>\n",
       "  <tbody>\n",
       "    <tr>\n",
       "      <th>0</th>\n",
       "      <td>29</td>\n",
       "      <td>Male</td>\n",
       "      <td>no</td>\n",
       "      <td>no</td>\n",
       "      <td>no</td>\n",
       "    </tr>\n",
       "    <tr>\n",
       "      <th>1</th>\n",
       "      <td>36</td>\n",
       "      <td>Female</td>\n",
       "      <td>no</td>\n",
       "      <td>no</td>\n",
       "      <td>no</td>\n",
       "    </tr>\n",
       "    <tr>\n",
       "      <th>2</th>\n",
       "      <td>37</td>\n",
       "      <td>Male</td>\n",
       "      <td>no</td>\n",
       "      <td>no</td>\n",
       "      <td>no</td>\n",
       "    </tr>\n",
       "    <tr>\n",
       "      <th>3</th>\n",
       "      <td>37</td>\n",
       "      <td>Female</td>\n",
       "      <td>no</td>\n",
       "      <td>no</td>\n",
       "      <td>no</td>\n",
       "    </tr>\n",
       "    <tr>\n",
       "      <th>4</th>\n",
       "      <td>38</td>\n",
       "      <td>Female</td>\n",
       "      <td>no</td>\n",
       "      <td>no</td>\n",
       "      <td>no</td>\n",
       "    </tr>\n",
       "    <tr>\n",
       "      <th>...</th>\n",
       "      <td>...</td>\n",
       "      <td>...</td>\n",
       "      <td>...</td>\n",
       "      <td>...</td>\n",
       "      <td>...</td>\n",
       "    </tr>\n",
       "    <tr>\n",
       "      <th>995</th>\n",
       "      <td>72</td>\n",
       "      <td>Male</td>\n",
       "      <td>no</td>\n",
       "      <td>no</td>\n",
       "      <td>no</td>\n",
       "    </tr>\n",
       "    <tr>\n",
       "      <th>996</th>\n",
       "      <td>72</td>\n",
       "      <td>Male</td>\n",
       "      <td>yes (diabetes,heart blockage)</td>\n",
       "      <td>shouler surgery</td>\n",
       "      <td>yes</td>\n",
       "    </tr>\n",
       "    <tr>\n",
       "      <th>997</th>\n",
       "      <td>74</td>\n",
       "      <td>Female</td>\n",
       "      <td>yes(diabetes,bp)</td>\n",
       "      <td>knee surgery</td>\n",
       "      <td>yes</td>\n",
       "    </tr>\n",
       "    <tr>\n",
       "      <th>998</th>\n",
       "      <td>76</td>\n",
       "      <td>Male</td>\n",
       "      <td>yes(diabetes,kidney stone)</td>\n",
       "      <td>no</td>\n",
       "      <td>no</td>\n",
       "    </tr>\n",
       "    <tr>\n",
       "      <th>999</th>\n",
       "      <td>85</td>\n",
       "      <td>Male</td>\n",
       "      <td>yes (diabetes,heart blockage)</td>\n",
       "      <td>yes(open heart surgery)</td>\n",
       "      <td>yes</td>\n",
       "    </tr>\n",
       "  </tbody>\n",
       "</table>\n",
       "<p>1000 rows × 5 columns</p>\n",
       "</div>"
      ],
      "text/plain": [
       "     AGE     SEX              ASSO MEDICAL PROB       H/O INJURY/SURGERY  \\\n",
       "0     29    Male                             no                       no   \n",
       "1     36  Female                             no                       no   \n",
       "2     37    Male                             no                       no   \n",
       "3     37  Female                             no                       no   \n",
       "4     38  Female                             no                       no   \n",
       "..   ...     ...                            ...                      ...   \n",
       "995   72    Male                             no                       no   \n",
       "996   72    Male  yes (diabetes,heart blockage)          shouler surgery   \n",
       "997   74  Female               yes(diabetes,bp)             knee surgery   \n",
       "998   76    Male     yes(diabetes,kidney stone)                       no   \n",
       "999   85    Male  yes (diabetes,heart blockage)  yes(open heart surgery)   \n",
       "\n",
       "    DRUG HISTORY  \n",
       "0             no  \n",
       "1             no  \n",
       "2             no  \n",
       "3             no  \n",
       "4             no  \n",
       "..           ...  \n",
       "995           no  \n",
       "996          yes  \n",
       "997          yes  \n",
       "998           no  \n",
       "999          yes  \n",
       "\n",
       "[1000 rows x 5 columns]"
      ]
     },
     "execution_count": 297,
     "metadata": {},
     "output_type": "execute_result"
    }
   ],
   "source": [
    "x = data.drop(['output', 'SI.NO', 'DATE', 'NAME', 'FREQUENCY', 'avg'], axis=1)\n",
    "y = data['output']\n",
    "\n",
    "\n",
    "x"
   ]
  },
  {
   "cell_type": "code",
   "execution_count": 301,
   "id": "21da1c88",
   "metadata": {},
   "outputs": [],
   "source": [
    "x.SEX = x.SEX.map( {'Male' : 1, 'Female' : 0 } )\n",
    "\n",
    "x['ASSO MEDICAL PROB'] = x['ASSO MEDICAL PROB'].map( {'no' : 0, \n",
    "                                               'yes(diabetes)' : 1, \n",
    "                                               'yes(diabetes,bp)' : 2,\n",
    "                                               'yes(bp)' : 3,\n",
    "                                               'yes (diabetes,heart blockage)' : 4,\n",
    "                                               'kidney stone' : 5,\n",
    "                                               'yes(increase in heart rate)' : 6,\n",
    "                                               'yes(diabetes,kidney stone)' : 7,\n",
    "                                               } )\n",
    "\n",
    "x['H/O INJURY/SURGERY'] = x['H/O INJURY/SURGERY'].map( {'no' : 0, \n",
    "                                               'vericose vein surgery' : 1, \n",
    "                                               'uteres removal' : 2,\n",
    "                                               'kidney stone opreration' : 3,\n",
    "                                               'uterus surgery' : 4,\n",
    "                                               'yes(diverticulities)' : 5,\n",
    "                                               'shouler surgery' : 6,\n",
    "                                               'knee surgery' : 7,\n",
    "                                               'yes(open heart surgery)' : 8,\n",
    "                                               } )\n",
    "\n",
    "x['DRUG HISTORY'] = x['DRUG HISTORY'].map( {'no' : 0, \n",
    "                                               'yes' : 1, \n",
    "                                               'yes(ecosprin)' : 2,\n",
    "                                               } )\n"
   ]
  },
  {
   "cell_type": "code",
   "execution_count": 302,
   "id": "c296f1dd",
   "metadata": {},
   "outputs": [
    {
     "data": {
      "text/html": [
       "<div>\n",
       "<style scoped>\n",
       "    .dataframe tbody tr th:only-of-type {\n",
       "        vertical-align: middle;\n",
       "    }\n",
       "\n",
       "    .dataframe tbody tr th {\n",
       "        vertical-align: top;\n",
       "    }\n",
       "\n",
       "    .dataframe thead th {\n",
       "        text-align: right;\n",
       "    }\n",
       "</style>\n",
       "<table border=\"1\" class=\"dataframe\">\n",
       "  <thead>\n",
       "    <tr style=\"text-align: right;\">\n",
       "      <th></th>\n",
       "      <th>AGE</th>\n",
       "      <th>SEX</th>\n",
       "      <th>ASSO MEDICAL PROB</th>\n",
       "      <th>H/O INJURY/SURGERY</th>\n",
       "      <th>DRUG HISTORY</th>\n",
       "    </tr>\n",
       "  </thead>\n",
       "  <tbody>\n",
       "    <tr>\n",
       "      <th>0</th>\n",
       "      <td>29</td>\n",
       "      <td>1</td>\n",
       "      <td>0</td>\n",
       "      <td>0</td>\n",
       "      <td>0</td>\n",
       "    </tr>\n",
       "    <tr>\n",
       "      <th>1</th>\n",
       "      <td>36</td>\n",
       "      <td>0</td>\n",
       "      <td>0</td>\n",
       "      <td>0</td>\n",
       "      <td>0</td>\n",
       "    </tr>\n",
       "    <tr>\n",
       "      <th>2</th>\n",
       "      <td>37</td>\n",
       "      <td>1</td>\n",
       "      <td>0</td>\n",
       "      <td>0</td>\n",
       "      <td>0</td>\n",
       "    </tr>\n",
       "    <tr>\n",
       "      <th>3</th>\n",
       "      <td>37</td>\n",
       "      <td>0</td>\n",
       "      <td>0</td>\n",
       "      <td>0</td>\n",
       "      <td>0</td>\n",
       "    </tr>\n",
       "    <tr>\n",
       "      <th>4</th>\n",
       "      <td>38</td>\n",
       "      <td>0</td>\n",
       "      <td>0</td>\n",
       "      <td>0</td>\n",
       "      <td>0</td>\n",
       "    </tr>\n",
       "    <tr>\n",
       "      <th>...</th>\n",
       "      <td>...</td>\n",
       "      <td>...</td>\n",
       "      <td>...</td>\n",
       "      <td>...</td>\n",
       "      <td>...</td>\n",
       "    </tr>\n",
       "    <tr>\n",
       "      <th>995</th>\n",
       "      <td>72</td>\n",
       "      <td>1</td>\n",
       "      <td>0</td>\n",
       "      <td>0</td>\n",
       "      <td>0</td>\n",
       "    </tr>\n",
       "    <tr>\n",
       "      <th>996</th>\n",
       "      <td>72</td>\n",
       "      <td>1</td>\n",
       "      <td>4</td>\n",
       "      <td>6</td>\n",
       "      <td>1</td>\n",
       "    </tr>\n",
       "    <tr>\n",
       "      <th>997</th>\n",
       "      <td>74</td>\n",
       "      <td>0</td>\n",
       "      <td>2</td>\n",
       "      <td>7</td>\n",
       "      <td>1</td>\n",
       "    </tr>\n",
       "    <tr>\n",
       "      <th>998</th>\n",
       "      <td>76</td>\n",
       "      <td>1</td>\n",
       "      <td>7</td>\n",
       "      <td>0</td>\n",
       "      <td>0</td>\n",
       "    </tr>\n",
       "    <tr>\n",
       "      <th>999</th>\n",
       "      <td>85</td>\n",
       "      <td>1</td>\n",
       "      <td>4</td>\n",
       "      <td>8</td>\n",
       "      <td>1</td>\n",
       "    </tr>\n",
       "  </tbody>\n",
       "</table>\n",
       "<p>1000 rows × 5 columns</p>\n",
       "</div>"
      ],
      "text/plain": [
       "     AGE  SEX  ASSO MEDICAL PROB  H/O INJURY/SURGERY  DRUG HISTORY\n",
       "0     29    1                  0                   0             0\n",
       "1     36    0                  0                   0             0\n",
       "2     37    1                  0                   0             0\n",
       "3     37    0                  0                   0             0\n",
       "4     38    0                  0                   0             0\n",
       "..   ...  ...                ...                 ...           ...\n",
       "995   72    1                  0                   0             0\n",
       "996   72    1                  4                   6             1\n",
       "997   74    0                  2                   7             1\n",
       "998   76    1                  7                   0             0\n",
       "999   85    1                  4                   8             1\n",
       "\n",
       "[1000 rows x 5 columns]"
      ]
     },
     "execution_count": 302,
     "metadata": {},
     "output_type": "execute_result"
    }
   ],
   "source": [
    "x"
   ]
  },
  {
   "cell_type": "code",
   "execution_count": 303,
   "id": "465828f7",
   "metadata": {},
   "outputs": [
    {
     "data": {
      "text/plain": [
       "Osteopenia      980\n",
       "Osteoporotic     20\n",
       "Name: output, dtype: int64"
      ]
     },
     "execution_count": 303,
     "metadata": {},
     "output_type": "execute_result"
    }
   ],
   "source": [
    "y.value_counts()"
   ]
  },
  {
   "cell_type": "code",
   "execution_count": 304,
   "id": "0b21aa5a",
   "metadata": {},
   "outputs": [
    {
     "data": {
      "text/plain": [
       "DecisionTreeClassifier()"
      ]
     },
     "execution_count": 304,
     "metadata": {},
     "output_type": "execute_result"
    }
   ],
   "source": [
    "model = DecisionTreeClassifier()\n",
    "model.fit(x, y)\n"
   ]
  },
  {
   "cell_type": "code",
   "execution_count": 306,
   "id": "5ff59bbb",
   "metadata": {},
   "outputs": [
    {
     "data": {
      "text/plain": [
       "array(['Osteopenia'], dtype=object)"
      ]
     },
     "execution_count": 306,
     "metadata": {},
     "output_type": "execute_result"
    }
   ],
   "source": [
    "model.predict( [ [35,1,0,2,1] ] )"
   ]
  },
  {
   "cell_type": "code",
   "execution_count": 382,
   "id": "cf11e2bb",
   "metadata": {},
   "outputs": [
    {
     "name": "stdout",
     "output_type": "stream",
     "text": [
      "[[ 0.62248087 -0.61009236  3.07642887  1.84342612  1.606568  ]\n",
      " [ 0.37892787 -0.61009236 -0.55893759 -0.3626186  -0.51081981]\n",
      " [-0.92002145 -0.61009236 -0.55893759 -0.3626186  -0.51081981]\n",
      " [-0.10817812 -0.61009236 -0.55893759 -0.3626186  -0.51081981]\n",
      " [ 1.43432419 -0.61009236  0.65285123  3.49795967  1.606568  ]\n",
      " [ 0.78484953 -0.61009236  0.65285123 -0.3626186  -0.51081981]\n",
      " [ 2.32735185  1.63909608  1.86464005  4.04947085  1.606568  ]\n",
      " [ 1.27195553  1.63909608 -0.55893759 -0.3626186  -0.51081981]\n",
      " [ 1.59669285  1.63909608  3.68232328 -0.3626186  -0.51081981]\n",
      " [-1.24475877 -0.61009236 -0.55893759 -0.3626186  -0.51081981]]\n"
     ]
    }
   ],
   "source": [
    "from sklearn.preprocessing import StandardScaler\n",
    "\n",
    "sc_x = StandardScaler()\n",
    "x_train = sc_x.fit_transform(x_train) \n",
    "x_test = sc_x.transform(x_test)\n",
    "  \n",
    "print (x_train[0:10, :])"
   ]
  },
  {
   "cell_type": "code",
   "execution_count": 384,
   "id": "955c3035",
   "metadata": {},
   "outputs": [
    {
     "data": {
      "text/plain": [
       "1.0"
      ]
     },
     "execution_count": 384,
     "metadata": {},
     "output_type": "execute_result"
    }
   ],
   "source": [
    "from sklearn.model_selection import train_test_split\n",
    "from sklearn.metrics import accuracy_score\n",
    "\n",
    "x_train, x_test, y_train, y_test = train_test_split(x, y, test_size=0.2)\n",
    "model = DecisionTreeClassifier()\n",
    "model.fit(x_train, y_train)\n",
    "\n",
    "predictions = model.predict(x_test)\n",
    "\n",
    "score = accuracy_score(y_test, predictions)\n",
    "score"
   ]
  },
  {
   "cell_type": "code",
   "execution_count": 388,
   "id": "bb72699c",
   "metadata": {},
   "outputs": [
    {
     "name": "stdout",
     "output_type": "stream",
     "text": [
      "1.0\n"
     ]
    }
   ],
   "source": [
    "from sklearn.linear_model import LogisticRegression\n",
    "\n",
    "model2 = LogisticRegression()\n",
    "model2.fit(x_train, y_train)\n",
    "\n",
    "predictions = model2.predict(x_test)\n",
    "\n",
    "score = accuracy_score(y_test, predictions)\n",
    "score"
   ]
  },
  {
   "cell_type": "code",
   "execution_count": 391,
   "id": "b0897a65",
   "metadata": {},
   "outputs": [],
   "source": [
    "import pickle"
   ]
  },
  {
   "cell_type": "code",
   "execution_count": 392,
   "id": "7586c02e",
   "metadata": {},
   "outputs": [],
   "source": [
    "pickle.dump(model, open('Fracture_Detection.pkl','wb'))"
   ]
  },
  {
   "cell_type": "code",
   "execution_count": 393,
   "id": "e12955dc",
   "metadata": {},
   "outputs": [],
   "source": [
    "load_model = pickle.load(open('Fracture_Detection.pkl','rb'))"
   ]
  },
  {
   "cell_type": "code",
   "execution_count": 394,
   "id": "d198ebf2",
   "metadata": {},
   "outputs": [],
   "source": [
    "y_pred_loaded = load_model.predict(x_test)"
   ]
  },
  {
   "cell_type": "code",
   "execution_count": 396,
   "id": "0bdbdc58",
   "metadata": {},
   "outputs": [
    {
     "data": {
      "text/plain": [
       "1.0"
      ]
     },
     "execution_count": 396,
     "metadata": {},
     "output_type": "execute_result"
    }
   ],
   "source": [
    "score_loaded = accuracy_score(y_test, y_pred_loaded)\n",
    "score_loaded"
   ]
  },
  {
   "cell_type": "code",
   "execution_count": 389,
   "id": "cf3b64be",
   "metadata": {},
   "outputs": [
    {
     "name": "stdout",
     "output_type": "stream",
     "text": [
      "Collecting streamlit\n",
      "  Downloading streamlit-1.12.0-py2.py3-none-any.whl (9.1 MB)\n",
      "Requirement already satisfied: pillow>=6.2.0 in c:\\programdata\\anaconda3\\lib\\site-packages (from streamlit) (8.4.0)\n",
      "Requirement already satisfied: numpy in c:\\programdata\\anaconda3\\lib\\site-packages (from streamlit) (1.20.3)\n",
      "Requirement already satisfied: toml in c:\\programdata\\anaconda3\\lib\\site-packages (from streamlit) (0.10.2)\n",
      "Requirement already satisfied: packaging>=14.1 in c:\\programdata\\anaconda3\\lib\\site-packages (from streamlit) (21.0)\n",
      "Collecting validators>=0.2\n",
      "  Downloading validators-0.20.0.tar.gz (30 kB)\n",
      "Collecting pympler>=0.9\n",
      "  Downloading Pympler-1.0.1-py3-none-any.whl (164 kB)\n",
      "Requirement already satisfied: tornado>=5.0 in c:\\programdata\\anaconda3\\lib\\site-packages (from streamlit) (6.1)\n",
      "Collecting blinker>=1.0.0\n",
      "  Downloading blinker-1.5-py2.py3-none-any.whl (12 kB)\n",
      "Collecting tzlocal>=1.1\n",
      "  Downloading tzlocal-4.2-py3-none-any.whl (19 kB)\n",
      "Requirement already satisfied: importlib-metadata>=1.4 in c:\\programdata\\anaconda3\\lib\\site-packages (from streamlit) (4.8.1)\n",
      "Requirement already satisfied: cachetools>=4.0 in c:\\programdata\\anaconda3\\lib\\site-packages (from streamlit) (4.2.4)\n",
      "Collecting pydeck>=0.1.dev5\n",
      "  Downloading pydeck-0.8.0-py2.py3-none-any.whl (4.7 MB)\n",
      "Requirement already satisfied: typing-extensions>=3.10.0.0 in c:\\programdata\\anaconda3\\lib\\site-packages (from streamlit) (3.10.0.2)\n",
      "Requirement already satisfied: watchdog in c:\\programdata\\anaconda3\\lib\\site-packages (from streamlit) (2.1.3)\n",
      "Requirement already satisfied: click>=7.0 in c:\\programdata\\anaconda3\\lib\\site-packages (from streamlit) (8.0.3)\n",
      "Requirement already satisfied: pandas>=0.21.0 in c:\\programdata\\anaconda3\\lib\\site-packages (from streamlit) (1.3.4)\n",
      "Collecting rich>=10.11.0\n",
      "  Downloading rich-12.6.0-py3-none-any.whl (237 kB)\n",
      "Collecting gitpython!=3.1.19\n",
      "  Downloading GitPython-3.1.29-py3-none-any.whl (182 kB)\n",
      "Requirement already satisfied: protobuf<4,>=3.12 in c:\\programdata\\anaconda3\\lib\\site-packages (from streamlit) (3.19.3)\n",
      "Collecting altair>=3.2.0\n",
      "  Downloading altair-4.2.0-py3-none-any.whl (812 kB)\n",
      "Collecting pyarrow>=4.0\n",
      "  Downloading pyarrow-10.0.1-cp39-cp39-win_amd64.whl (20.3 MB)\n",
      "Requirement already satisfied: requests>=2.4 in c:\\programdata\\anaconda3\\lib\\site-packages (from streamlit) (2.26.0)\n",
      "Collecting semver\n",
      "  Downloading semver-2.13.0-py2.py3-none-any.whl (12 kB)\n",
      "Requirement already satisfied: python-dateutil in c:\\programdata\\anaconda3\\lib\\site-packages (from streamlit) (2.8.2)\n",
      "Requirement already satisfied: jinja2 in c:\\programdata\\anaconda3\\lib\\site-packages (from altair>=3.2.0->streamlit) (2.11.3)\n",
      "Requirement already satisfied: entrypoints in c:\\programdata\\anaconda3\\lib\\site-packages (from altair>=3.2.0->streamlit) (0.3)\n",
      "Requirement already satisfied: toolz in c:\\programdata\\anaconda3\\lib\\site-packages (from altair>=3.2.0->streamlit) (0.11.1)\n",
      "Requirement already satisfied: jsonschema>=3.0 in c:\\programdata\\anaconda3\\lib\\site-packages (from altair>=3.2.0->streamlit) (3.2.0)\n",
      "Requirement already satisfied: colorama in c:\\programdata\\anaconda3\\lib\\site-packages (from click>=7.0->streamlit) (0.4.4)\n",
      "Collecting gitdb<5,>=4.0.1\n",
      "  Downloading gitdb-4.0.10-py3-none-any.whl (62 kB)\n",
      "Collecting smmap<6,>=3.0.1\n",
      "  Downloading smmap-5.0.0-py3-none-any.whl (24 kB)\n",
      "Requirement already satisfied: zipp>=0.5 in c:\\programdata\\anaconda3\\lib\\site-packages (from importlib-metadata>=1.4->streamlit) (3.6.0)\n",
      "Requirement already satisfied: pyrsistent>=0.14.0 in c:\\programdata\\anaconda3\\lib\\site-packages (from jsonschema>=3.0->altair>=3.2.0->streamlit) (0.18.0)\n",
      "Requirement already satisfied: attrs>=17.4.0 in c:\\programdata\\anaconda3\\lib\\site-packages (from jsonschema>=3.0->altair>=3.2.0->streamlit) (21.2.0)\n",
      "Requirement already satisfied: six>=1.11.0 in c:\\programdata\\anaconda3\\lib\\site-packages (from jsonschema>=3.0->altair>=3.2.0->streamlit) (1.16.0)\n",
      "Requirement already satisfied: setuptools in c:\\programdata\\anaconda3\\lib\\site-packages (from jsonschema>=3.0->altair>=3.2.0->streamlit) (58.0.4)\n",
      "Requirement already satisfied: pyparsing>=2.0.2 in c:\\programdata\\anaconda3\\lib\\site-packages (from packaging>=14.1->streamlit) (3.0.4)\n",
      "Requirement already satisfied: pytz>=2017.3 in c:\\programdata\\anaconda3\\lib\\site-packages (from pandas>=0.21.0->streamlit) (2021.3)\n",
      "Requirement already satisfied: MarkupSafe>=0.23 in c:\\programdata\\anaconda3\\lib\\site-packages (from jinja2->altair>=3.2.0->streamlit) (1.1.1)\n",
      "Requirement already satisfied: certifi>=2017.4.17 in c:\\programdata\\anaconda3\\lib\\site-packages (from requests>=2.4->streamlit) (2021.10.8)\n",
      "Requirement already satisfied: idna<4,>=2.5 in c:\\programdata\\anaconda3\\lib\\site-packages (from requests>=2.4->streamlit) (3.2)\n",
      "Requirement already satisfied: urllib3<1.27,>=1.21.1 in c:\\programdata\\anaconda3\\lib\\site-packages (from requests>=2.4->streamlit) (1.26.7)\n",
      "Requirement already satisfied: charset-normalizer~=2.0.0 in c:\\programdata\\anaconda3\\lib\\site-packages (from requests>=2.4->streamlit) (2.0.4)\n",
      "Requirement already satisfied: pygments<3.0.0,>=2.6.0 in c:\\programdata\\anaconda3\\lib\\site-packages (from rich>=10.11.0->streamlit) (2.10.0)\n",
      "Collecting commonmark<0.10.0,>=0.9.0\n",
      "  Downloading commonmark-0.9.1-py2.py3-none-any.whl (51 kB)\n",
      "Collecting pytz-deprecation-shim\n",
      "  Downloading pytz_deprecation_shim-0.1.0.post0-py2.py3-none-any.whl (15 kB)\n",
      "Collecting tzdata\n",
      "  Downloading tzdata-2022.7-py2.py3-none-any.whl (340 kB)\n",
      "Requirement already satisfied: decorator>=3.4.0 in c:\\programdata\\anaconda3\\lib\\site-packages (from validators>=0.2->streamlit) (5.1.0)\n",
      "Building wheels for collected packages: validators\n",
      "  Building wheel for validators (setup.py): started\n",
      "  Building wheel for validators (setup.py): finished with status 'done'\n",
      "  Created wheel for validators: filename=validators-0.20.0-py3-none-any.whl size=19583 sha256=fc1c5119471b6b8e6668a4f8986825bb180b616af33070c11ee75f2bc98bf359\n",
      "  Stored in directory: c:\\users\\prati\\appdata\\local\\pip\\cache\\wheels\\2d\\f0\\a8\\1094fca7a7e5d0d12ff56e0c64675d72aa5cc81a5fc200e849\n",
      "Successfully built validators\n",
      "Installing collected packages: tzdata, smmap, pytz-deprecation-shim, gitdb, commonmark, validators, tzlocal, semver, rich, pympler, pydeck, pyarrow, gitpython, blinker, altair, streamlit\n",
      "Successfully installed altair-4.2.0 blinker-1.5 commonmark-0.9.1 gitdb-4.0.10 gitpython-3.1.29 pyarrow-10.0.1 pydeck-0.8.0 pympler-1.0.1 pytz-deprecation-shim-0.1.0.post0 rich-12.6.0 semver-2.13.0 smmap-5.0.0 streamlit-1.12.0 tzdata-2022.7 tzlocal-4.2 validators-0.20.0\n"
     ]
    }
   ],
   "source": [
    "!pip install streamlit"
   ]
  },
  {
   "cell_type": "code",
   "execution_count": 390,
   "id": "902c4e3c",
   "metadata": {},
   "outputs": [
    {
     "name": "stdout",
     "output_type": "stream",
     "text": [
      "Name: streamlit\n",
      "Version: 1.12.0\n",
      "Summary: The fastest way to build data apps in Python\n",
      "Home-page: https://streamlit.io\n",
      "Author: Streamlit Inc\n",
      "Author-email: hello@streamlit.io\n",
      "License: Apache 2\n",
      "Location: c:\\programdata\\anaconda3\\lib\\site-packages\n",
      "Requires: numpy, packaging, gitpython, click, python-dateutil, importlib-metadata, altair, pandas, semver, typing-extensions, pillow, protobuf, requests, pydeck, tornado, rich, pympler, blinker, watchdog, cachetools, validators, tzlocal, toml, pyarrow\n",
      "Required-by: \n",
      "Note: you may need to restart the kernel to use updated packages.\n"
     ]
    }
   ],
   "source": [
    "pip show streamlit"
   ]
  },
  {
   "cell_type": "code",
   "execution_count": 2,
   "id": "f7fa93f0",
   "metadata": {},
   "outputs": [
    {
     "name": "stdout",
     "output_type": "stream",
     "text": [
      "Name: streamlit\n",
      "Version: 1.12.0\n",
      "Summary: The fastest way to build data apps in Python\n",
      "Home-page: https://streamlit.io\n",
      "Author: Streamlit Inc\n",
      "Author-email: hello@streamlit.io\n",
      "License: Apache 2\n",
      "Location: c:\\programdata\\anaconda3\\lib\\site-packages\n",
      "Requires: requests, typing-extensions, rich, tzlocal, pandas, blinker, watchdog, click, gitpython, tornado, pillow, cachetools, semver, protobuf, packaging, validators, pyarrow, pympler, importlib-metadata, python-dateutil, pydeck, toml, altair, numpy\n",
      "Required-by: \n"
     ]
    }
   ],
   "source": [
    "!pip show streamlit"
   ]
  },
  {
   "cell_type": "code",
   "execution_count": 4,
   "id": "ad402ea4",
   "metadata": {},
   "outputs": [
    {
     "name": "stderr",
     "output_type": "stream",
     "text": [
      "WARNING: Package(s) not found: sklearn\n"
     ]
    }
   ],
   "source": [
    "!pip show sklearn"
   ]
  },
  {
   "cell_type": "code",
   "execution_count": 8,
   "id": "2536481b",
   "metadata": {},
   "outputs": [
    {
     "name": "stderr",
     "output_type": "stream",
     "text": [
      "ERROR: Invalid requirement: '='\n",
      "Hint: = is not a valid operator. Did you mean == ?\n"
     ]
    }
   ],
   "source": [
    "!pip install sklearn = 0.18.0"
   ]
  },
  {
   "cell_type": "code",
   "execution_count": 6,
   "id": "5f10fe4a",
   "metadata": {},
   "outputs": [
    {
     "name": "stdout",
     "output_type": "stream",
     "text": [
      "Name: sklearn\n",
      "Version: 0.0.post1\n",
      "Summary: deprecated sklearn package, use scikit-learn instead\n",
      "Home-page: UNKNOWN\n",
      "Author: \n",
      "Author-email: \n",
      "License: UNKNOWN\n",
      "Location: c:\\programdata\\anaconda3\\lib\\site-packages\n",
      "Requires: \n",
      "Required-by: \n"
     ]
    }
   ],
   "source": [
    "!pip show sklearn"
   ]
  },
  {
   "cell_type": "code",
   "execution_count": null,
   "id": "035a5d14",
   "metadata": {},
   "outputs": [],
   "source": []
  }
 ],
 "metadata": {
  "kernelspec": {
   "display_name": "Python 3 (ipykernel)",
   "language": "python",
   "name": "python3"
  },
  "language_info": {
   "codemirror_mode": {
    "name": "ipython",
    "version": 3
   },
   "file_extension": ".py",
   "mimetype": "text/x-python",
   "name": "python",
   "nbconvert_exporter": "python",
   "pygments_lexer": "ipython3",
   "version": "3.9.7"
  }
 },
 "nbformat": 4,
 "nbformat_minor": 5
}
